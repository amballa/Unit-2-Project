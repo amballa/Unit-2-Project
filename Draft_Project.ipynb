{
  "nbformat": 4,
  "nbformat_minor": 0,
  "metadata": {
    "colab": {
      "name": "Draft Project.ipynb",
      "provenance": [],
      "collapsed_sections": [
        "h50ohIyPhCP9",
        "e3SZLMadhHL5"
      ]
    },
    "kernelspec": {
      "name": "python3",
      "display_name": "Python 3"
    },
    "language_info": {
      "name": "python"
    }
  },
  "cells": [
    {
      "cell_type": "markdown",
      "source": [
        "#Wrangling"
      ],
      "metadata": {
        "id": "7_DBTZ2WgB-Z"
      }
    },
    {
      "cell_type": "code",
      "execution_count": 7,
      "metadata": {
        "id": "pyw7bt55RKBX"
      },
      "outputs": [],
      "source": [
        "import pandas as pd\n",
        "import numpy as np\n",
        "import matplotlib.pyplot as plt"
      ]
    },
    {
      "cell_type": "code",
      "source": [
        "def wrangle(filepath):\n",
        "  df = pd.read_csv('/content/CollegeBasketballPlayers2009-2021.csv')\n",
        "\n",
        "  df = df[df['year'] >= 2016].reset_index(drop=True)\n",
        "\n",
        "  col_drop = ['DRB_per', 'AST_per', 'FTM', 'FTA', 'twoPM', 'ast/tov', 'adrtg', \n",
        "              'twoPA', 'TPM', 'TPA', 'blk_per', 'stl_per', 'num', 'ht',\n",
        "              'porpag', 'adjoe', 'pfr', 'type', 'Rec Rank', 'rimmade', \n",
        "              'rimmade+rimmiss', 'midmade', 'midmade+midmiss', 'rimmade/(rimmade+rimmiss)', \n",
        "              'midmade/(midmade+midmiss)', 'dunksmiss+dunksmade', \n",
        "              'dunksmade/(dunksmade+dunksmiss)', 'dporpag', 'obpm', \n",
        "              'dbpm', 'gbpm', 'ogbpm', 'dgbpm', 'oreb', 'dreb', 'Unnamed: 65']\n",
        "  #col_drop.append(['eFG', 'TS_per'])\n",
        "  df.drop(columns=col_drop, inplace=True)\n",
        "  #df.columns = []\n",
        "  \n",
        "  df.rename(columns = {'Unnamed: 64': 'pos', 'dunksmade': 'dunks'}, inplace=True)\n",
        "  #df.drop(columns = ['pos'], inplace=True)\n",
        "\n",
        "  # Imputing NaN values\n",
        "  df['dunks'].fillna(0, inplace=True)\n",
        "\n",
        "  #Removing outlier observations\n",
        "  df.drop(index = df[df['Ortg'] > 145.96].index, inplace=True)\n",
        "  df.drop(index = df[df['eFG'] > 81.3].index, inplace=True)\n",
        "  df.drop(index = df[df['TS_per'] > 77.8].index, inplace=True)\n",
        "  df.drop(index = df[df['ORB_per'] > 27.6].index, inplace=True)\n",
        "  df.drop(index = df[df['ftr'] > 150].index, inplace=True)\n",
        "  df.drop(index = df[df['drtg'] < 0].index, inplace=True)\n",
        "  df.drop(index = df[df['bpm'] > 25].index, inplace=True)\n",
        "  df.drop(index = df[df['mp'] > 40].index, inplace=True)\n",
        "\n",
        "  #df.drop(index = df[(df.TO_per == 0) | (df.TO_per == 100)].index, inplace=True)\n",
        "  #df.drop(index = df[(df.FT_per == 0) | (df.FT_per == 1)].index, inplace=True)\n",
        "  ##df['FT_per'] = df['FT_per'].apply(lambda x: 0 if x == 1 else x)\n",
        "  #df.drop(index = df[(df.twoP_per == 0) | (df.twoP_per == 1)].index, inplace=True)\n",
        "  ##df['twoP_per'] = df['twoP_per'].apply(lambda x: 0 if x == 1 else x)\n",
        "  #df.drop(index = df[df.TP_per == 1].index, inplace=True)\n",
        "  ##df['TP_per'] = df['TP_per'].apply(lambda x: 0 if x == 1 else x)\n",
        "\n",
        "  #Some feature engineering \n",
        "  def set_major(conf):\n",
        "    high_major = ['B10', 'SEC', 'ACC', 'B12', 'P12', 'BE']\n",
        "    mid_major = ['Amer', 'A10', 'MWC', 'WCC', 'MVC', 'CUSA', 'MAC']\n",
        "    if conf in high_major:\n",
        "      return 'high'\n",
        "    elif conf in mid_major:\n",
        "      return 'mid'\n",
        "    else:\n",
        "      return 'low'\n",
        "  df['conf_mjr'] = df['conf'].apply(set_major)\n",
        "\n",
        "  # Creating my target column\n",
        "  df['drafted'] = df['pick'].notnull().astype(int)\n",
        "  df.drop(columns='pick', inplace=True)\n",
        "  df.sort_values(by='year', ascending=False, inplace=True)\n",
        "  draft_picks = df[['pid', 'drafted']][df['drafted'] == 1]\n",
        "  late_draft_ind = df.loc[draft_picks[draft_picks.duplicated()].index].index\n",
        "  df.loc[late_draft_ind, 'drafted'] = 0\n",
        "\n",
        "  # Dropping high-cardinality team column\n",
        "  df.drop(columns=['team'], inplace=True)\n",
        "\n",
        "  # Dropping rows with any null value (very few)\n",
        "  df.dropna(axis=0, how='any', inplace=True)\n",
        "  df.drop(index = df[df['yr'] == 'None'].index, axis =0, inplace=True)\n",
        "\n",
        "  df.drop(columns = ['pid'], inplace=True)\n",
        "  df.set_index('player_name', inplace=True)\n",
        "  \n",
        "  return df"
      ],
      "metadata": {
        "id": "KGTU5-htZNh2"
      },
      "execution_count": 8,
      "outputs": []
    },
    {
      "cell_type": "code",
      "source": [
        "colab_filepath = '/content/CollegeBasketballPlayers2009-2021.csv'\n",
        "\n",
        "df = wrangle(colab_filepath)\n",
        "\n",
        "print(df.shape)\n",
        "df.head()"
      ],
      "metadata": {
        "colab": {
          "base_uri": "https://localhost:8080/",
          "height": 330
        },
        "id": "YOgsDo2tRfm-",
        "outputId": "fe5095e0-3c55-4a34-e5bc-407b43cbadde"
      },
      "execution_count": 9,
      "outputs": [
        {
          "output_type": "stream",
          "name": "stderr",
          "text": [
            "/usr/local/lib/python3.7/dist-packages/IPython/core/interactiveshell.py:2822: DtypeWarning: Columns (27) have mixed types.Specify dtype option on import or set low_memory=False.\n",
            "  if self.run_code(code, result):\n"
          ]
        },
        {
          "output_type": "stream",
          "name": "stdout",
          "text": [
            "(27382, 28)\n"
          ]
        },
        {
          "output_type": "execute_result",
          "data": {
            "text/html": [
              "\n",
              "  <div id=\"df-981799fc-7b7c-4d3d-b1b2-c3a7be5596e9\">\n",
              "    <div class=\"colab-df-container\">\n",
              "      <div>\n",
              "<style scoped>\n",
              "    .dataframe tbody tr th:only-of-type {\n",
              "        vertical-align: middle;\n",
              "    }\n",
              "\n",
              "    .dataframe tbody tr th {\n",
              "        vertical-align: top;\n",
              "    }\n",
              "\n",
              "    .dataframe thead th {\n",
              "        text-align: right;\n",
              "    }\n",
              "</style>\n",
              "<table border=\"1\" class=\"dataframe\">\n",
              "  <thead>\n",
              "    <tr style=\"text-align: right;\">\n",
              "      <th></th>\n",
              "      <th>conf</th>\n",
              "      <th>GP</th>\n",
              "      <th>Min_per</th>\n",
              "      <th>Ortg</th>\n",
              "      <th>usg</th>\n",
              "      <th>eFG</th>\n",
              "      <th>TS_per</th>\n",
              "      <th>ORB_per</th>\n",
              "      <th>TO_per</th>\n",
              "      <th>FT_per</th>\n",
              "      <th>twoP_per</th>\n",
              "      <th>TP_per</th>\n",
              "      <th>ftr</th>\n",
              "      <th>yr</th>\n",
              "      <th>year</th>\n",
              "      <th>dunks</th>\n",
              "      <th>drtg</th>\n",
              "      <th>stops</th>\n",
              "      <th>bpm</th>\n",
              "      <th>mp</th>\n",
              "      <th>treb</th>\n",
              "      <th>ast</th>\n",
              "      <th>stl</th>\n",
              "      <th>blk</th>\n",
              "      <th>pts</th>\n",
              "      <th>pos</th>\n",
              "      <th>conf_mjr</th>\n",
              "      <th>drafted</th>\n",
              "    </tr>\n",
              "    <tr>\n",
              "      <th>player_name</th>\n",
              "      <th></th>\n",
              "      <th></th>\n",
              "      <th></th>\n",
              "      <th></th>\n",
              "      <th></th>\n",
              "      <th></th>\n",
              "      <th></th>\n",
              "      <th></th>\n",
              "      <th></th>\n",
              "      <th></th>\n",
              "      <th></th>\n",
              "      <th></th>\n",
              "      <th></th>\n",
              "      <th></th>\n",
              "      <th></th>\n",
              "      <th></th>\n",
              "      <th></th>\n",
              "      <th></th>\n",
              "      <th></th>\n",
              "      <th></th>\n",
              "      <th></th>\n",
              "      <th></th>\n",
              "      <th></th>\n",
              "      <th></th>\n",
              "      <th></th>\n",
              "      <th></th>\n",
              "      <th></th>\n",
              "      <th></th>\n",
              "    </tr>\n",
              "  </thead>\n",
              "  <tbody>\n",
              "    <tr>\n",
              "      <th>Jaden Jones</th>\n",
              "      <td>B10</td>\n",
              "      <td>4</td>\n",
              "      <td>1.0</td>\n",
              "      <td>89.6</td>\n",
              "      <td>28.8</td>\n",
              "      <td>25.0</td>\n",
              "      <td>25.00</td>\n",
              "      <td>10.3</td>\n",
              "      <td>0.0</td>\n",
              "      <td>0.000</td>\n",
              "      <td>0.000</td>\n",
              "      <td>0.500</td>\n",
              "      <td>0.0</td>\n",
              "      <td>Fr</td>\n",
              "      <td>2021</td>\n",
              "      <td>0.0</td>\n",
              "      <td>111.7530</td>\n",
              "      <td>0.959619</td>\n",
              "      <td>-2.875570</td>\n",
              "      <td>2.7500</td>\n",
              "      <td>0.250</td>\n",
              "      <td>0.7500</td>\n",
              "      <td>0.0000</td>\n",
              "      <td>0.0000</td>\n",
              "      <td>0.750</td>\n",
              "      <td>Pure PG</td>\n",
              "      <td>high</td>\n",
              "      <td>0</td>\n",
              "    </tr>\n",
              "    <tr>\n",
              "      <th>Lahat Thioune</th>\n",
              "      <td>P12</td>\n",
              "      <td>20</td>\n",
              "      <td>11.0</td>\n",
              "      <td>106.5</td>\n",
              "      <td>13.6</td>\n",
              "      <td>71.9</td>\n",
              "      <td>75.42</td>\n",
              "      <td>11.6</td>\n",
              "      <td>35.0</td>\n",
              "      <td>1.000</td>\n",
              "      <td>0.667</td>\n",
              "      <td>1.000</td>\n",
              "      <td>25.0</td>\n",
              "      <td>So</td>\n",
              "      <td>2021</td>\n",
              "      <td>1.0</td>\n",
              "      <td>102.3660</td>\n",
              "      <td>20.158000</td>\n",
              "      <td>0.692166</td>\n",
              "      <td>5.5500</td>\n",
              "      <td>1.150</td>\n",
              "      <td>0.0500</td>\n",
              "      <td>0.2000</td>\n",
              "      <td>0.0000</td>\n",
              "      <td>1.350</td>\n",
              "      <td>PF/C</td>\n",
              "      <td>high</td>\n",
              "      <td>0</td>\n",
              "    </tr>\n",
              "    <tr>\n",
              "      <th>Jr. Clay</th>\n",
              "      <td>OVC</td>\n",
              "      <td>24</td>\n",
              "      <td>76.0</td>\n",
              "      <td>102.7</td>\n",
              "      <td>26.6</td>\n",
              "      <td>52.1</td>\n",
              "      <td>54.96</td>\n",
              "      <td>1.9</td>\n",
              "      <td>17.8</td>\n",
              "      <td>0.723</td>\n",
              "      <td>0.521</td>\n",
              "      <td>0.347</td>\n",
              "      <td>28.3</td>\n",
              "      <td>Jr</td>\n",
              "      <td>2021</td>\n",
              "      <td>0.0</td>\n",
              "      <td>109.0770</td>\n",
              "      <td>147.139000</td>\n",
              "      <td>0.308935</td>\n",
              "      <td>34.3750</td>\n",
              "      <td>2.875</td>\n",
              "      <td>3.6667</td>\n",
              "      <td>1.7917</td>\n",
              "      <td>0.1667</td>\n",
              "      <td>17.250</td>\n",
              "      <td>Scoring PG</td>\n",
              "      <td>low</td>\n",
              "      <td>0</td>\n",
              "    </tr>\n",
              "    <tr>\n",
              "      <th>Sage Tolbert</th>\n",
              "      <td>Amer</td>\n",
              "      <td>1</td>\n",
              "      <td>1.3</td>\n",
              "      <td>55.1</td>\n",
              "      <td>14.0</td>\n",
              "      <td>0.0</td>\n",
              "      <td>0.00</td>\n",
              "      <td>14.0</td>\n",
              "      <td>0.0</td>\n",
              "      <td>0.000</td>\n",
              "      <td>0.000</td>\n",
              "      <td>0.000</td>\n",
              "      <td>0.0</td>\n",
              "      <td>Jr</td>\n",
              "      <td>2021</td>\n",
              "      <td>0.0</td>\n",
              "      <td>99.5110</td>\n",
              "      <td>1.574120</td>\n",
              "      <td>-5.547870</td>\n",
              "      <td>8.0000</td>\n",
              "      <td>3.000</td>\n",
              "      <td>1.0000</td>\n",
              "      <td>0.0000</td>\n",
              "      <td>0.0000</td>\n",
              "      <td>0.000</td>\n",
              "      <td>C</td>\n",
              "      <td>mid</td>\n",
              "      <td>0</td>\n",
              "    </tr>\n",
              "    <tr>\n",
              "      <th>Gabe McGlothan</th>\n",
              "      <td>WAC</td>\n",
              "      <td>21</td>\n",
              "      <td>42.3</td>\n",
              "      <td>118.8</td>\n",
              "      <td>18.0</td>\n",
              "      <td>60.6</td>\n",
              "      <td>62.50</td>\n",
              "      <td>13.4</td>\n",
              "      <td>16.8</td>\n",
              "      <td>0.675</td>\n",
              "      <td>0.620</td>\n",
              "      <td>0.357</td>\n",
              "      <td>47.1</td>\n",
              "      <td>So</td>\n",
              "      <td>2021</td>\n",
              "      <td>3.0</td>\n",
              "      <td>94.4435</td>\n",
              "      <td>67.815900</td>\n",
              "      <td>1.991410</td>\n",
              "      <td>16.7917</td>\n",
              "      <td>5.375</td>\n",
              "      <td>0.5000</td>\n",
              "      <td>0.3333</td>\n",
              "      <td>0.2500</td>\n",
              "      <td>6.125</td>\n",
              "      <td>PF/C</td>\n",
              "      <td>low</td>\n",
              "      <td>0</td>\n",
              "    </tr>\n",
              "  </tbody>\n",
              "</table>\n",
              "</div>\n",
              "      <button class=\"colab-df-convert\" onclick=\"convertToInteractive('df-981799fc-7b7c-4d3d-b1b2-c3a7be5596e9')\"\n",
              "              title=\"Convert this dataframe to an interactive table.\"\n",
              "              style=\"display:none;\">\n",
              "        \n",
              "  <svg xmlns=\"http://www.w3.org/2000/svg\" height=\"24px\"viewBox=\"0 0 24 24\"\n",
              "       width=\"24px\">\n",
              "    <path d=\"M0 0h24v24H0V0z\" fill=\"none\"/>\n",
              "    <path d=\"M18.56 5.44l.94 2.06.94-2.06 2.06-.94-2.06-.94-.94-2.06-.94 2.06-2.06.94zm-11 1L8.5 8.5l.94-2.06 2.06-.94-2.06-.94L8.5 2.5l-.94 2.06-2.06.94zm10 10l.94 2.06.94-2.06 2.06-.94-2.06-.94-.94-2.06-.94 2.06-2.06.94z\"/><path d=\"M17.41 7.96l-1.37-1.37c-.4-.4-.92-.59-1.43-.59-.52 0-1.04.2-1.43.59L10.3 9.45l-7.72 7.72c-.78.78-.78 2.05 0 2.83L4 21.41c.39.39.9.59 1.41.59.51 0 1.02-.2 1.41-.59l7.78-7.78 2.81-2.81c.8-.78.8-2.07 0-2.86zM5.41 20L4 18.59l7.72-7.72 1.47 1.35L5.41 20z\"/>\n",
              "  </svg>\n",
              "      </button>\n",
              "      \n",
              "  <style>\n",
              "    .colab-df-container {\n",
              "      display:flex;\n",
              "      flex-wrap:wrap;\n",
              "      gap: 12px;\n",
              "    }\n",
              "\n",
              "    .colab-df-convert {\n",
              "      background-color: #E8F0FE;\n",
              "      border: none;\n",
              "      border-radius: 50%;\n",
              "      cursor: pointer;\n",
              "      display: none;\n",
              "      fill: #1967D2;\n",
              "      height: 32px;\n",
              "      padding: 0 0 0 0;\n",
              "      width: 32px;\n",
              "    }\n",
              "\n",
              "    .colab-df-convert:hover {\n",
              "      background-color: #E2EBFA;\n",
              "      box-shadow: 0px 1px 2px rgba(60, 64, 67, 0.3), 0px 1px 3px 1px rgba(60, 64, 67, 0.15);\n",
              "      fill: #174EA6;\n",
              "    }\n",
              "\n",
              "    [theme=dark] .colab-df-convert {\n",
              "      background-color: #3B4455;\n",
              "      fill: #D2E3FC;\n",
              "    }\n",
              "\n",
              "    [theme=dark] .colab-df-convert:hover {\n",
              "      background-color: #434B5C;\n",
              "      box-shadow: 0px 1px 3px 1px rgba(0, 0, 0, 0.15);\n",
              "      filter: drop-shadow(0px 1px 2px rgba(0, 0, 0, 0.3));\n",
              "      fill: #FFFFFF;\n",
              "    }\n",
              "  </style>\n",
              "\n",
              "      <script>\n",
              "        const buttonEl =\n",
              "          document.querySelector('#df-981799fc-7b7c-4d3d-b1b2-c3a7be5596e9 button.colab-df-convert');\n",
              "        buttonEl.style.display =\n",
              "          google.colab.kernel.accessAllowed ? 'block' : 'none';\n",
              "\n",
              "        async function convertToInteractive(key) {\n",
              "          const element = document.querySelector('#df-981799fc-7b7c-4d3d-b1b2-c3a7be5596e9');\n",
              "          const dataTable =\n",
              "            await google.colab.kernel.invokeFunction('convertToInteractive',\n",
              "                                                     [key], {});\n",
              "          if (!dataTable) return;\n",
              "\n",
              "          const docLinkHtml = 'Like what you see? Visit the ' +\n",
              "            '<a target=\"_blank\" href=https://colab.research.google.com/notebooks/data_table.ipynb>data table notebook</a>'\n",
              "            + ' to learn more about interactive tables.';\n",
              "          element.innerHTML = '';\n",
              "          dataTable['output_type'] = 'display_data';\n",
              "          await google.colab.output.renderOutput(dataTable, element);\n",
              "          const docLink = document.createElement('div');\n",
              "          docLink.innerHTML = docLinkHtml;\n",
              "          element.appendChild(docLink);\n",
              "        }\n",
              "      </script>\n",
              "    </div>\n",
              "  </div>\n",
              "  "
            ],
            "text/plain": [
              "                conf  GP  Min_per   Ortg  ...     pts         pos  conf_mjr  drafted\n",
              "player_name                               ...                                       \n",
              "Jaden Jones      B10   4      1.0   89.6  ...   0.750     Pure PG      high        0\n",
              "Lahat Thioune    P12  20     11.0  106.5  ...   1.350        PF/C      high        0\n",
              "Jr. Clay         OVC  24     76.0  102.7  ...  17.250  Scoring PG       low        0\n",
              "Sage Tolbert    Amer   1      1.3   55.1  ...   0.000           C       mid        0\n",
              "Gabe McGlothan   WAC  21     42.3  118.8  ...   6.125        PF/C       low        0\n",
              "\n",
              "[5 rows x 28 columns]"
            ]
          },
          "metadata": {},
          "execution_count": 9
        }
      ]
    },
    {
      "cell_type": "code",
      "source": [
        "# Checking for num. of unique and null values in each column\n",
        "\n",
        "data = {'nunique': [np.nan]*len(df.columns), \n",
        "        'null': [np.nan]*len(df.columns),\n",
        "        'x': [np.nan]*len(df.columns)\n",
        "        }\n",
        "\n",
        "df_info = pd.DataFrame(data, index = df.columns)\n",
        "\n",
        "for col in df.columns:\n",
        "  df_info.loc[col]['nunique'] = df[col].nunique()\n",
        "  df_info.loc[col]['null'] = df[col].isnull().sum()\n",
        "\n",
        "df_info;"
      ],
      "metadata": {
        "id": "ynIxbgHDPBZ3"
      },
      "execution_count": 10,
      "outputs": []
    },
    {
      "cell_type": "markdown",
      "source": [
        "# Train-Val-Test Split"
      ],
      "metadata": {
        "id": "HdpKeNPPf8bv"
      }
    },
    {
      "cell_type": "code",
      "source": [
        "cutoff = 2020\n",
        "\n",
        "df_train = df[df['year'] < cutoff]\n",
        "df_val = df[df['year'] == cutoff]\n",
        "df_test = df[df['year'] > cutoff]\n",
        "\n",
        "print(df_train.shape)\n",
        "print(df_val.shape)\n",
        "print(df_test.shape)"
      ],
      "metadata": {
        "colab": {
          "base_uri": "https://localhost:8080/"
        },
        "id": "18-cingqf66f",
        "outputId": "e69a8deb-ce5a-4bb2-acf0-d1def25c748d"
      },
      "execution_count": 11,
      "outputs": [
        {
          "output_type": "stream",
          "name": "stdout",
          "text": [
            "(18126, 28)\n",
            "(4524, 28)\n",
            "(4732, 28)\n"
          ]
        }
      ]
    },
    {
      "cell_type": "markdown",
      "source": [
        "#Feature Matrix and Target Vector"
      ],
      "metadata": {
        "id": "qjOeygMks7nH"
      }
    },
    {
      "cell_type": "code",
      "source": [
        "target = 'drafted'\n",
        "\n",
        "X_train = df_train.drop(columns = [target, 'year'])\n",
        "y_train = df_train[target]\n",
        "\n",
        "X_val = df_val.drop(columns = [target, 'year'])\n",
        "y_val = df_val[target]\n",
        "\n",
        "X_test = df_test.drop(columns = [target, 'year'])\n",
        "y_test = df_test[target]\n",
        "\n",
        "print(X_train.shape, y_train.shape)\n",
        "print(X_val.shape, y_val.shape)\n",
        "print(X_test.shape, y_test.shape)\n",
        "\n",
        "X_train.head()"
      ],
      "metadata": {
        "colab": {
          "base_uri": "https://localhost:8080/",
          "height": 286
        },
        "id": "b0ukgYj2s6Xy",
        "outputId": "10ba4311-b645-4233-c1da-461cb60e3794"
      },
      "execution_count": 12,
      "outputs": [
        {
          "output_type": "stream",
          "name": "stdout",
          "text": [
            "(18126, 26) (18126,)\n",
            "(4524, 26) (4524,)\n",
            "(4732, 26) (4732,)\n"
          ]
        },
        {
          "output_type": "execute_result",
          "data": {
            "text/html": [
              "\n",
              "  <div id=\"df-f10bd7fd-e0a6-4054-85be-fc943eec785c\">\n",
              "    <div class=\"colab-df-container\">\n",
              "      <div>\n",
              "<style scoped>\n",
              "    .dataframe tbody tr th:only-of-type {\n",
              "        vertical-align: middle;\n",
              "    }\n",
              "\n",
              "    .dataframe tbody tr th {\n",
              "        vertical-align: top;\n",
              "    }\n",
              "\n",
              "    .dataframe thead th {\n",
              "        text-align: right;\n",
              "    }\n",
              "</style>\n",
              "<table border=\"1\" class=\"dataframe\">\n",
              "  <thead>\n",
              "    <tr style=\"text-align: right;\">\n",
              "      <th></th>\n",
              "      <th>conf</th>\n",
              "      <th>GP</th>\n",
              "      <th>Min_per</th>\n",
              "      <th>Ortg</th>\n",
              "      <th>usg</th>\n",
              "      <th>eFG</th>\n",
              "      <th>TS_per</th>\n",
              "      <th>ORB_per</th>\n",
              "      <th>TO_per</th>\n",
              "      <th>FT_per</th>\n",
              "      <th>twoP_per</th>\n",
              "      <th>TP_per</th>\n",
              "      <th>ftr</th>\n",
              "      <th>yr</th>\n",
              "      <th>dunks</th>\n",
              "      <th>drtg</th>\n",
              "      <th>stops</th>\n",
              "      <th>bpm</th>\n",
              "      <th>mp</th>\n",
              "      <th>treb</th>\n",
              "      <th>ast</th>\n",
              "      <th>stl</th>\n",
              "      <th>blk</th>\n",
              "      <th>pts</th>\n",
              "      <th>pos</th>\n",
              "      <th>conf_mjr</th>\n",
              "    </tr>\n",
              "    <tr>\n",
              "      <th>player_name</th>\n",
              "      <th></th>\n",
              "      <th></th>\n",
              "      <th></th>\n",
              "      <th></th>\n",
              "      <th></th>\n",
              "      <th></th>\n",
              "      <th></th>\n",
              "      <th></th>\n",
              "      <th></th>\n",
              "      <th></th>\n",
              "      <th></th>\n",
              "      <th></th>\n",
              "      <th></th>\n",
              "      <th></th>\n",
              "      <th></th>\n",
              "      <th></th>\n",
              "      <th></th>\n",
              "      <th></th>\n",
              "      <th></th>\n",
              "      <th></th>\n",
              "      <th></th>\n",
              "      <th></th>\n",
              "      <th></th>\n",
              "      <th></th>\n",
              "      <th></th>\n",
              "      <th></th>\n",
              "    </tr>\n",
              "  </thead>\n",
              "  <tbody>\n",
              "    <tr>\n",
              "      <th>Addison Owen</th>\n",
              "      <td>CUSA</td>\n",
              "      <td>2</td>\n",
              "      <td>0.2</td>\n",
              "      <td>0.0</td>\n",
              "      <td>13.3</td>\n",
              "      <td>0.0</td>\n",
              "      <td>0.00</td>\n",
              "      <td>0.0</td>\n",
              "      <td>0.0</td>\n",
              "      <td>0.000</td>\n",
              "      <td>0.000</td>\n",
              "      <td>0.000</td>\n",
              "      <td>0.0</td>\n",
              "      <td>Jr</td>\n",
              "      <td>0.0</td>\n",
              "      <td>116.787</td>\n",
              "      <td>0.324555</td>\n",
              "      <td>-19.25240</td>\n",
              "      <td>1.5000</td>\n",
              "      <td>0.0000</td>\n",
              "      <td>0.0000</td>\n",
              "      <td>0.0000</td>\n",
              "      <td>0.0000</td>\n",
              "      <td>0.0000</td>\n",
              "      <td>Combo G</td>\n",
              "      <td>mid</td>\n",
              "    </tr>\n",
              "    <tr>\n",
              "      <th>Sid Tomes</th>\n",
              "      <td>MWC</td>\n",
              "      <td>31</td>\n",
              "      <td>56.7</td>\n",
              "      <td>85.5</td>\n",
              "      <td>14.0</td>\n",
              "      <td>37.2</td>\n",
              "      <td>38.68</td>\n",
              "      <td>1.0</td>\n",
              "      <td>16.0</td>\n",
              "      <td>0.542</td>\n",
              "      <td>0.500</td>\n",
              "      <td>0.206</td>\n",
              "      <td>16.6</td>\n",
              "      <td>Jr</td>\n",
              "      <td>0.0</td>\n",
              "      <td>105.836</td>\n",
              "      <td>126.011000</td>\n",
              "      <td>-2.69483</td>\n",
              "      <td>23.1875</td>\n",
              "      <td>2.9062</td>\n",
              "      <td>2.2500</td>\n",
              "      <td>0.5312</td>\n",
              "      <td>0.0938</td>\n",
              "      <td>4.1250</td>\n",
              "      <td>Wing G</td>\n",
              "      <td>mid</td>\n",
              "    </tr>\n",
              "    <tr>\n",
              "      <th>Ian Kinard</th>\n",
              "      <td>MEAC</td>\n",
              "      <td>32</td>\n",
              "      <td>56.5</td>\n",
              "      <td>97.0</td>\n",
              "      <td>18.3</td>\n",
              "      <td>44.3</td>\n",
              "      <td>52.33</td>\n",
              "      <td>6.7</td>\n",
              "      <td>22.1</td>\n",
              "      <td>0.768</td>\n",
              "      <td>0.490</td>\n",
              "      <td>0.254</td>\n",
              "      <td>59.3</td>\n",
              "      <td>Jr</td>\n",
              "      <td>5.0</td>\n",
              "      <td>108.989</td>\n",
              "      <td>136.517000</td>\n",
              "      <td>-3.47407</td>\n",
              "      <td>22.6765</td>\n",
              "      <td>3.8824</td>\n",
              "      <td>0.7059</td>\n",
              "      <td>0.7353</td>\n",
              "      <td>0.3235</td>\n",
              "      <td>7.1176</td>\n",
              "      <td>Wing F</td>\n",
              "      <td>low</td>\n",
              "    </tr>\n",
              "    <tr>\n",
              "      <th>Davonta Jordan</th>\n",
              "      <td>MAC</td>\n",
              "      <td>35</td>\n",
              "      <td>65.9</td>\n",
              "      <td>96.6</td>\n",
              "      <td>17.6</td>\n",
              "      <td>55.6</td>\n",
              "      <td>53.30</td>\n",
              "      <td>2.6</td>\n",
              "      <td>27.8</td>\n",
              "      <td>0.292</td>\n",
              "      <td>0.590</td>\n",
              "      <td>0.337</td>\n",
              "      <td>21.5</td>\n",
              "      <td>Jr</td>\n",
              "      <td>6.0</td>\n",
              "      <td>95.039</td>\n",
              "      <td>196.575000</td>\n",
              "      <td>3.22152</td>\n",
              "      <td>26.3889</td>\n",
              "      <td>3.1944</td>\n",
              "      <td>3.6111</td>\n",
              "      <td>1.4722</td>\n",
              "      <td>0.4444</td>\n",
              "      <td>7.3889</td>\n",
              "      <td>Scoring PG</td>\n",
              "      <td>mid</td>\n",
              "    </tr>\n",
              "    <tr>\n",
              "      <th>Tyson Ward</th>\n",
              "      <td>Sum</td>\n",
              "      <td>32</td>\n",
              "      <td>68.0</td>\n",
              "      <td>107.2</td>\n",
              "      <td>25.6</td>\n",
              "      <td>52.1</td>\n",
              "      <td>56.81</td>\n",
              "      <td>5.7</td>\n",
              "      <td>16.9</td>\n",
              "      <td>0.739</td>\n",
              "      <td>0.536</td>\n",
              "      <td>0.320</td>\n",
              "      <td>47.2</td>\n",
              "      <td>Jr</td>\n",
              "      <td>12.0</td>\n",
              "      <td>108.917</td>\n",
              "      <td>163.114000</td>\n",
              "      <td>0.74052</td>\n",
              "      <td>27.7353</td>\n",
              "      <td>6.1765</td>\n",
              "      <td>2.3235</td>\n",
              "      <td>0.8235</td>\n",
              "      <td>0.1471</td>\n",
              "      <td>12.4118</td>\n",
              "      <td>Wing F</td>\n",
              "      <td>low</td>\n",
              "    </tr>\n",
              "  </tbody>\n",
              "</table>\n",
              "</div>\n",
              "      <button class=\"colab-df-convert\" onclick=\"convertToInteractive('df-f10bd7fd-e0a6-4054-85be-fc943eec785c')\"\n",
              "              title=\"Convert this dataframe to an interactive table.\"\n",
              "              style=\"display:none;\">\n",
              "        \n",
              "  <svg xmlns=\"http://www.w3.org/2000/svg\" height=\"24px\"viewBox=\"0 0 24 24\"\n",
              "       width=\"24px\">\n",
              "    <path d=\"M0 0h24v24H0V0z\" fill=\"none\"/>\n",
              "    <path d=\"M18.56 5.44l.94 2.06.94-2.06 2.06-.94-2.06-.94-.94-2.06-.94 2.06-2.06.94zm-11 1L8.5 8.5l.94-2.06 2.06-.94-2.06-.94L8.5 2.5l-.94 2.06-2.06.94zm10 10l.94 2.06.94-2.06 2.06-.94-2.06-.94-.94-2.06-.94 2.06-2.06.94z\"/><path d=\"M17.41 7.96l-1.37-1.37c-.4-.4-.92-.59-1.43-.59-.52 0-1.04.2-1.43.59L10.3 9.45l-7.72 7.72c-.78.78-.78 2.05 0 2.83L4 21.41c.39.39.9.59 1.41.59.51 0 1.02-.2 1.41-.59l7.78-7.78 2.81-2.81c.8-.78.8-2.07 0-2.86zM5.41 20L4 18.59l7.72-7.72 1.47 1.35L5.41 20z\"/>\n",
              "  </svg>\n",
              "      </button>\n",
              "      \n",
              "  <style>\n",
              "    .colab-df-container {\n",
              "      display:flex;\n",
              "      flex-wrap:wrap;\n",
              "      gap: 12px;\n",
              "    }\n",
              "\n",
              "    .colab-df-convert {\n",
              "      background-color: #E8F0FE;\n",
              "      border: none;\n",
              "      border-radius: 50%;\n",
              "      cursor: pointer;\n",
              "      display: none;\n",
              "      fill: #1967D2;\n",
              "      height: 32px;\n",
              "      padding: 0 0 0 0;\n",
              "      width: 32px;\n",
              "    }\n",
              "\n",
              "    .colab-df-convert:hover {\n",
              "      background-color: #E2EBFA;\n",
              "      box-shadow: 0px 1px 2px rgba(60, 64, 67, 0.3), 0px 1px 3px 1px rgba(60, 64, 67, 0.15);\n",
              "      fill: #174EA6;\n",
              "    }\n",
              "\n",
              "    [theme=dark] .colab-df-convert {\n",
              "      background-color: #3B4455;\n",
              "      fill: #D2E3FC;\n",
              "    }\n",
              "\n",
              "    [theme=dark] .colab-df-convert:hover {\n",
              "      background-color: #434B5C;\n",
              "      box-shadow: 0px 1px 3px 1px rgba(0, 0, 0, 0.15);\n",
              "      filter: drop-shadow(0px 1px 2px rgba(0, 0, 0, 0.3));\n",
              "      fill: #FFFFFF;\n",
              "    }\n",
              "  </style>\n",
              "\n",
              "      <script>\n",
              "        const buttonEl =\n",
              "          document.querySelector('#df-f10bd7fd-e0a6-4054-85be-fc943eec785c button.colab-df-convert');\n",
              "        buttonEl.style.display =\n",
              "          google.colab.kernel.accessAllowed ? 'block' : 'none';\n",
              "\n",
              "        async function convertToInteractive(key) {\n",
              "          const element = document.querySelector('#df-f10bd7fd-e0a6-4054-85be-fc943eec785c');\n",
              "          const dataTable =\n",
              "            await google.colab.kernel.invokeFunction('convertToInteractive',\n",
              "                                                     [key], {});\n",
              "          if (!dataTable) return;\n",
              "\n",
              "          const docLinkHtml = 'Like what you see? Visit the ' +\n",
              "            '<a target=\"_blank\" href=https://colab.research.google.com/notebooks/data_table.ipynb>data table notebook</a>'\n",
              "            + ' to learn more about interactive tables.';\n",
              "          element.innerHTML = '';\n",
              "          dataTable['output_type'] = 'display_data';\n",
              "          await google.colab.output.renderOutput(dataTable, element);\n",
              "          const docLink = document.createElement('div');\n",
              "          docLink.innerHTML = docLinkHtml;\n",
              "          element.appendChild(docLink);\n",
              "        }\n",
              "      </script>\n",
              "    </div>\n",
              "  </div>\n",
              "  "
            ],
            "text/plain": [
              "                conf  GP  Min_per   Ortg  ...     blk      pts         pos  conf_mjr\n",
              "player_name                               ...                                       \n",
              "Addison Owen    CUSA   2      0.2    0.0  ...  0.0000   0.0000     Combo G       mid\n",
              "Sid Tomes        MWC  31     56.7   85.5  ...  0.0938   4.1250      Wing G       mid\n",
              "Ian Kinard      MEAC  32     56.5   97.0  ...  0.3235   7.1176      Wing F       low\n",
              "Davonta Jordan   MAC  35     65.9   96.6  ...  0.4444   7.3889  Scoring PG       mid\n",
              "Tyson Ward       Sum  32     68.0  107.2  ...  0.1471  12.4118      Wing F       low\n",
              "\n",
              "[5 rows x 26 columns]"
            ]
          },
          "metadata": {},
          "execution_count": 12
        }
      ]
    },
    {
      "cell_type": "markdown",
      "source": [
        "#Baseline\n",
        "the majority class = undrafted"
      ],
      "metadata": {
        "id": "-n7mmH0n1aes"
      }
    },
    {
      "cell_type": "code",
      "source": [
        "print(y_train.value_counts())\n",
        "print(y_val.value_counts())\n",
        "\n",
        "baseline_train_acc = y_train.value_counts(normalize=True).max()*100\n",
        "baseline_val_acc = y_val.value_counts(normalize=True).max()*100\n",
        "\n",
        "print('The baseline training accuracy is:', baseline_train_acc)\n",
        "print('The baseline validation accuracy is:', baseline_val_acc)\n"
      ],
      "metadata": {
        "colab": {
          "base_uri": "https://localhost:8080/"
        },
        "id": "8681ZzC30deI",
        "outputId": "5d665448-404a-49a8-fe99-1ac9b47b692b"
      },
      "execution_count": 13,
      "outputs": [
        {
          "output_type": "stream",
          "name": "stdout",
          "text": [
            "0    17929\n",
            "1      197\n",
            "Name: drafted, dtype: int64\n",
            "0    4475\n",
            "1      49\n",
            "Name: drafted, dtype: int64\n",
            "The baseline training accuracy is: 98.91316341167385\n",
            "The baseline validation accuracy is: 98.91688770999116\n"
          ]
        }
      ]
    },
    {
      "cell_type": "markdown",
      "source": [
        "#Linear Model - Logistic Regression"
      ],
      "metadata": {
        "id": "_9-wzFGbGmVs"
      }
    },
    {
      "cell_type": "code",
      "source": [
        "%%capture\n",
        "!pip install category_encoders==2.*"
      ],
      "metadata": {
        "id": "75sSaOytK5Z-"
      },
      "execution_count": 14,
      "outputs": []
    },
    {
      "cell_type": "code",
      "source": [
        "from sklearn.linear_model import LogisticRegression\n",
        "from sklearn.preprocessing import StandardScaler\n",
        "from category_encoders import OneHotEncoder\n",
        "from sklearn.pipeline import make_pipeline\n",
        "from sklearn.impute import SimpleImputer"
      ],
      "metadata": {
        "id": "Os-geZzEGrfq",
        "colab": {
          "base_uri": "https://localhost:8080/"
        },
        "outputId": "19e31f3c-ad35-4470-f13b-9fbc363b74f0"
      },
      "execution_count": 15,
      "outputs": [
        {
          "output_type": "stream",
          "name": "stderr",
          "text": [
            "/usr/local/lib/python3.7/dist-packages/statsmodels/tools/_testing.py:19: FutureWarning: pandas.util.testing is deprecated. Use the functions in the public API at pandas.testing instead.\n",
            "  import pandas.util.testing as tm\n"
          ]
        }
      ]
    },
    {
      "cell_type": "code",
      "source": [
        "model_log = make_pipeline(OneHotEncoder(use_cat_names = True),\n",
        "                          StandardScaler(),\n",
        "                          LogisticRegression(n_jobs=-1, random_state=42)\n",
        "                          )\n",
        "model_log.fit(X_train, y_train)"
      ],
      "metadata": {
        "colab": {
          "base_uri": "https://localhost:8080/"
        },
        "id": "e5t6Bna2mfYi",
        "outputId": "f26acf77-518a-42df-b63e-f462c531275b"
      },
      "execution_count": 16,
      "outputs": [
        {
          "output_type": "execute_result",
          "data": {
            "text/plain": [
              "Pipeline(steps=[('onehotencoder',\n",
              "                 OneHotEncoder(cols=['conf', 'yr', 'pos', 'conf_mjr'],\n",
              "                               use_cat_names=True)),\n",
              "                ('standardscaler', StandardScaler()),\n",
              "                ('logisticregression',\n",
              "                 LogisticRegression(n_jobs=-1, random_state=42))])"
            ]
          },
          "metadata": {},
          "execution_count": 16
        }
      ]
    },
    {
      "cell_type": "code",
      "source": [
        "print('Logistic Regression: Training Accuracy:', model_log.score(X_train, y_train)*100)\n",
        "print('Logistic Regression: Validation Accuracy:', model_log.score(X_val, y_val)*100)"
      ],
      "metadata": {
        "colab": {
          "base_uri": "https://localhost:8080/"
        },
        "id": "AE-aMzXUnSUT",
        "outputId": "6708c0e7-5922-4975-c88b-98a502d5f161"
      },
      "execution_count": 17,
      "outputs": [
        {
          "output_type": "stream",
          "name": "stdout",
          "text": [
            "Logistic Regression: Training Accuracy: 99.17245945051307\n",
            "Logistic Regression: Validation Accuracy: 99.40318302387267\n"
          ]
        }
      ]
    },
    {
      "cell_type": "markdown",
      "source": [
        "# Tree Models "
      ],
      "metadata": {
        "id": "za5OomSF7BJ4"
      }
    },
    {
      "cell_type": "code",
      "source": [
        "from category_encoders import OrdinalEncoder\n",
        "from sklearn.tree import DecisionTreeClassifier\n",
        "from sklearn.ensemble import RandomForestClassifier\n",
        "from sklearn.ensemble import AdaBoostClassifier\n",
        "from sklearn.ensemble import GradientBoostingClassifier\n",
        "from xgboost import XGBClassifier"
      ],
      "metadata": {
        "id": "ryOvjioR9oLg"
      },
      "execution_count": 18,
      "outputs": []
    },
    {
      "cell_type": "code",
      "source": [
        "model_dt = make_pipeline(OrdinalEncoder(),\n",
        "                         DecisionTreeClassifier(random_state=42)\n",
        "                         )\n",
        "\n",
        "model_dt.fit(X_train, y_train);"
      ],
      "metadata": {
        "id": "57DE0wt66_1x"
      },
      "execution_count": 19,
      "outputs": []
    },
    {
      "cell_type": "code",
      "source": [
        "model_rf = make_pipeline(OrdinalEncoder(),\n",
        "                         RandomForestClassifier(random_state=42, n_jobs=-1)\n",
        "                         )\n",
        "\n",
        "model_rf.fit(X_train, y_train);"
      ],
      "metadata": {
        "id": "YVkeh8Tn-VJv"
      },
      "execution_count": 20,
      "outputs": []
    },
    {
      "cell_type": "code",
      "source": [
        "model_ada = make_pipeline(OrdinalEncoder(),\n",
        "                          AdaBoostClassifier(random_state=42)\n",
        "                          )\n",
        "\n",
        "model_ada.fit(X_train, y_train);"
      ],
      "metadata": {
        "id": "QJQd49qlgwmr"
      },
      "execution_count": 21,
      "outputs": []
    },
    {
      "cell_type": "code",
      "source": [
        "model_gb = make_pipeline(OrdinalEncoder(),\n",
        "                         GradientBoostingClassifier(random_state=42)\n",
        "                         )\n",
        "\n",
        "model_gb.fit(X_train, y_train);"
      ],
      "metadata": {
        "id": "z1PdtC73gxkS"
      },
      "execution_count": 22,
      "outputs": []
    },
    {
      "cell_type": "code",
      "source": [
        "model_xgb = make_pipeline(OrdinalEncoder(),\n",
        "                          XGBClassifier(random_state=41, n_jobs=-1)\n",
        "                          )\n",
        "\n",
        "model_xgb.fit(X_train, y_train);"
      ],
      "metadata": {
        "id": "hY_bX8Skg04C"
      },
      "execution_count": 23,
      "outputs": []
    },
    {
      "cell_type": "markdown",
      "source": [
        "# Metrics - Accuracy"
      ],
      "metadata": {
        "id": "7s6qtfeQkpCG"
      }
    },
    {
      "cell_type": "code",
      "source": [
        "from sklearn.metrics import accuracy_score, plot_confusion_matrix, classification_report\n",
        "from sklearn.inspection import permutation_importance"
      ],
      "metadata": {
        "id": "7tJxelyAlFub"
      },
      "execution_count": 24,
      "outputs": []
    },
    {
      "cell_type": "code",
      "source": [
        "print('Decision Tree: Training Accuracy:', model_dt.score(X_train, y_train)*100)\n",
        "print('Random Forest: Training Accuracy:', model_rf.score(X_train, y_train)*100)\n",
        "print('Adaptive Boosting: Training Accuracy:', model_ada.score(X_train, y_train)*100)\n",
        "print('Gradient Boosting: Training Accuracy:', model_gb.score(X_train, y_train)*100)\n",
        "print('Extreme Gradient Boosting: Training Accuracy:', model_xgb.score(X_train, y_train)*100)\n",
        "print('...................................................................')\n",
        "print('Decision Tree: Validation Accuracy:', model_dt.score(X_val, y_val)*100)\n",
        "print('Random Forest: Validation Accuracy:', model_rf.score(X_val, y_val)*100)\n",
        "print('Adaptive Boosting: Validation Accuracy:', model_ada.score(X_val, y_val)*100)\n",
        "print('Gradient Boosting: Validation Accuracy:', model_gb.score(X_val, y_val)*100)\n",
        "print('Extreme Gradient Boosting: Validation Accuracy:', model_xgb.score(X_val, y_val)*100)"
      ],
      "metadata": {
        "colab": {
          "base_uri": "https://localhost:8080/"
        },
        "id": "ek2tK8-3885x",
        "outputId": "192b3476-d9f7-4e47-f9e9-254c7162bd22"
      },
      "execution_count": 25,
      "outputs": [
        {
          "output_type": "stream",
          "name": "stdout",
          "text": [
            "Decision Tree: Training Accuracy: 100.0\n",
            "Random Forest: Training Accuracy: 100.0\n",
            "Adaptive Boosting: Training Accuracy: 99.15590863952333\n",
            "Gradient Boosting: Training Accuracy: 99.64139909522233\n",
            "Extreme Gradient Boosting: Training Accuracy: 99.3821030563831\n",
            "...................................................................\n",
            "Decision Tree: Validation Accuracy: 98.894783377542\n",
            "Random Forest: Validation Accuracy: 99.02740937223696\n",
            "Adaptive Boosting: Validation Accuracy: 99.29266136162688\n",
            "Gradient Boosting: Validation Accuracy: 99.13793103448276\n",
            "Extreme Gradient Boosting: Validation Accuracy: 99.18213969938108\n"
          ]
        }
      ]
    },
    {
      "cell_type": "markdown",
      "source": [
        "# Metrics - Precision, Recall, and F1 Score"
      ],
      "metadata": {
        "id": "yKq87LCQh2zx"
      }
    },
    {
      "cell_type": "code",
      "source": [
        "# Seeing what the rf model predicted for sample of 30 draft picks\n",
        "df_pred = pd.DataFrame(data = {'actual': y_val, 'predicted':model_rf.predict(X_val)})\n",
        "df_pred[df_pred['actual'] == 1].head(30);"
      ],
      "metadata": {
        "id": "4Mo18pAH_vow"
      },
      "execution_count": 26,
      "outputs": []
    },
    {
      "cell_type": "code",
      "source": [
        "plot_confusion_matrix(model_log, X_val, y_val);\n",
        "plt.title('Logistic Regression');\n",
        "cr_log = classification_report(y_val, model_log.predict(X_val))\n",
        "print(cr_log)"
      ],
      "metadata": {
        "colab": {
          "base_uri": "https://localhost:8080/",
          "height": 502
        },
        "id": "h2GGRe_itXwT",
        "outputId": "e00fa33c-3cec-4387-b5cc-78b6e3b62bbb"
      },
      "execution_count": 27,
      "outputs": [
        {
          "output_type": "stream",
          "name": "stderr",
          "text": [
            "/usr/local/lib/python3.7/dist-packages/sklearn/utils/deprecation.py:87: FutureWarning: Function plot_confusion_matrix is deprecated; Function `plot_confusion_matrix` is deprecated in 1.0 and will be removed in 1.2. Use one of the class methods: ConfusionMatrixDisplay.from_predictions or ConfusionMatrixDisplay.from_estimator.\n",
            "  warnings.warn(msg, category=FutureWarning)\n"
          ]
        },
        {
          "output_type": "stream",
          "name": "stdout",
          "text": [
            "              precision    recall  f1-score   support\n",
            "\n",
            "           0       1.00      1.00      1.00      4475\n",
            "           1       0.84      0.55      0.67        49\n",
            "\n",
            "    accuracy                           0.99      4524\n",
            "   macro avg       0.92      0.77      0.83      4524\n",
            "weighted avg       0.99      0.99      0.99      4524\n",
            "\n"
          ]
        },
        {
          "output_type": "display_data",
          "data": {
            "image/png": "[encoded data removed]",
            "text/plain": [
              "<Figure size 432x288 with 2 Axes>"
            ]
          },
          "metadata": {
            "needs_background": "light"
          }
        }
      ]
    },
    {
      "cell_type": "code",
      "source": [
        "plot_confusion_matrix(model_dt, X_val, y_val);\n",
        "plt.title('Decision Tree Model');\n",
        "cr_dt = classification_report(y_val, model_dt.predict(X_val))\n",
        "print(cr_dt)"
      ],
      "metadata": {
        "colab": {
          "base_uri": "https://localhost:8080/",
          "height": 502
        },
        "id": "zIFgL1dJ4Vtm",
        "outputId": "b4ccacf8-9fb9-4a04-92b8-43775b41e008"
      },
      "execution_count": 28,
      "outputs": [
        {
          "output_type": "stream",
          "name": "stderr",
          "text": [
            "/usr/local/lib/python3.7/dist-packages/sklearn/utils/deprecation.py:87: FutureWarning: Function plot_confusion_matrix is deprecated; Function `plot_confusion_matrix` is deprecated in 1.0 and will be removed in 1.2. Use one of the class methods: ConfusionMatrixDisplay.from_predictions or ConfusionMatrixDisplay.from_estimator.\n",
            "  warnings.warn(msg, category=FutureWarning)\n"
          ]
        },
        {
          "output_type": "stream",
          "name": "stdout",
          "text": [
            "              precision    recall  f1-score   support\n",
            "\n",
            "           0       0.99      1.00      0.99      4475\n",
            "           1       0.49      0.35      0.40        49\n",
            "\n",
            "    accuracy                           0.99      4524\n",
            "   macro avg       0.74      0.67      0.70      4524\n",
            "weighted avg       0.99      0.99      0.99      4524\n",
            "\n"
          ]
        },
        {
          "output_type": "display_data",
          "data": {
            "image/png": "[encoded data removed]",
            "text/plain": [
              "<Figure size 432x288 with 2 Axes>"
            ]
          },
          "metadata": {
            "needs_background": "light"
          }
        }
      ]
    },
    {
      "cell_type": "code",
      "source": [
        "plot_confusion_matrix(model_rf, X_val, y_val)\n",
        "plt.title('Random Forest Model');\n",
        "cr_rf = classification_report(y_val, model_rf.predict(X_val))\n",
        "print(cr_rf)"
      ],
      "metadata": {
        "colab": {
          "base_uri": "https://localhost:8080/",
          "height": 502
        },
        "id": "1pDO7dPQkzMT",
        "outputId": "ab95a291-3083-45eb-f84f-6746e7b2ba8f"
      },
      "execution_count": 29,
      "outputs": [
        {
          "output_type": "stream",
          "name": "stderr",
          "text": [
            "/usr/local/lib/python3.7/dist-packages/sklearn/utils/deprecation.py:87: FutureWarning: Function plot_confusion_matrix is deprecated; Function `plot_confusion_matrix` is deprecated in 1.0 and will be removed in 1.2. Use one of the class methods: ConfusionMatrixDisplay.from_predictions or ConfusionMatrixDisplay.from_estimator.\n",
            "  warnings.warn(msg, category=FutureWarning)\n"
          ]
        },
        {
          "output_type": "stream",
          "name": "stdout",
          "text": [
            "              precision    recall  f1-score   support\n",
            "\n",
            "           0       0.99      1.00      1.00      4475\n",
            "           1       1.00      0.10      0.19        49\n",
            "\n",
            "    accuracy                           0.99      4524\n",
            "   macro avg       1.00      0.55      0.59      4524\n",
            "weighted avg       0.99      0.99      0.99      4524\n",
            "\n"
          ]
        },
        {
          "output_type": "display_data",
          "data": {
            "image/png": "[encoded data removed]",
            "text/plain": [
              "<Figure size 432x288 with 2 Axes>"
            ]
          },
          "metadata": {
            "needs_background": "light"
          }
        }
      ]
    },
    {
      "cell_type": "code",
      "source": [
        "plot_confusion_matrix(model_ada, X_val, y_val)\n",
        "plt.title('Adaptive Boost Model');\n",
        "cr_ada = classification_report(y_val, model_ada.predict(X_val))\n",
        "print(cr_ada)"
      ],
      "metadata": {
        "colab": {
          "base_uri": "https://localhost:8080/",
          "height": 502
        },
        "id": "-BTzDzP0o8yC",
        "outputId": "b421f55c-fa9e-454c-e5d7-36b7560680d0"
      },
      "execution_count": 30,
      "outputs": [
        {
          "output_type": "stream",
          "name": "stderr",
          "text": [
            "/usr/local/lib/python3.7/dist-packages/sklearn/utils/deprecation.py:87: FutureWarning: Function plot_confusion_matrix is deprecated; Function `plot_confusion_matrix` is deprecated in 1.0 and will be removed in 1.2. Use one of the class methods: ConfusionMatrixDisplay.from_predictions or ConfusionMatrixDisplay.from_estimator.\n",
            "  warnings.warn(msg, category=FutureWarning)\n"
          ]
        },
        {
          "output_type": "stream",
          "name": "stdout",
          "text": [
            "              precision    recall  f1-score   support\n",
            "\n",
            "           0       0.99      1.00      1.00      4475\n",
            "           1       0.77      0.49      0.60        49\n",
            "\n",
            "    accuracy                           0.99      4524\n",
            "   macro avg       0.88      0.74      0.80      4524\n",
            "weighted avg       0.99      0.99      0.99      4524\n",
            "\n"
          ]
        },
        {
          "output_type": "display_data",
          "data": {
            "image/png": "[encoded data removed]",
            "text/plain": [
              "<Figure size 432x288 with 2 Axes>"
            ]
          },
          "metadata": {
            "needs_background": "light"
          }
        }
      ]
    },
    {
      "cell_type": "code",
      "source": [
        "plot_confusion_matrix(model_gb, X_val, y_val)\n",
        "plt.title('Gradient Boost Model');\n",
        "cr_gb = classification_report(y_val, model_gb.predict(X_val))\n",
        "print(cr_gb)"
      ],
      "metadata": {
        "colab": {
          "base_uri": "https://localhost:8080/",
          "height": 502
        },
        "id": "_unCXC9UpEXz",
        "outputId": "0c9c3128-d54b-41bc-b511-27d3f9802fe6"
      },
      "execution_count": 31,
      "outputs": [
        {
          "output_type": "stream",
          "name": "stderr",
          "text": [
            "/usr/local/lib/python3.7/dist-packages/sklearn/utils/deprecation.py:87: FutureWarning: Function plot_confusion_matrix is deprecated; Function `plot_confusion_matrix` is deprecated in 1.0 and will be removed in 1.2. Use one of the class methods: ConfusionMatrixDisplay.from_predictions or ConfusionMatrixDisplay.from_estimator.\n",
            "  warnings.warn(msg, category=FutureWarning)\n"
          ]
        },
        {
          "output_type": "stream",
          "name": "stdout",
          "text": [
            "              precision    recall  f1-score   support\n",
            "\n",
            "           0       0.99      1.00      1.00      4475\n",
            "           1       0.75      0.31      0.43        49\n",
            "\n",
            "    accuracy                           0.99      4524\n",
            "   macro avg       0.87      0.65      0.72      4524\n",
            "weighted avg       0.99      0.99      0.99      4524\n",
            "\n"
          ]
        },
        {
          "output_type": "display_data",
          "data": {
            "image/png": "[encoded data removed]",
            "text/plain": [
              "<Figure size 432x288 with 2 Axes>"
            ]
          },
          "metadata": {
            "needs_background": "light"
          }
        }
      ]
    },
    {
      "cell_type": "code",
      "source": [
        "plot_confusion_matrix(model_xgb, X_val, y_val)\n",
        "plt.title('XGBoost Model');\n",
        "cr_xgb = classification_report(y_val, model_xgb.predict(X_val))\n",
        "print(cr_xgb)"
      ],
      "metadata": {
        "colab": {
          "base_uri": "https://localhost:8080/",
          "height": 502
        },
        "id": "1S9owgiLpLd3",
        "outputId": "aea41b97-6c71-4fcd-c2dd-2d6a45a37f53"
      },
      "execution_count": 32,
      "outputs": [
        {
          "output_type": "stream",
          "name": "stderr",
          "text": [
            "/usr/local/lib/python3.7/dist-packages/sklearn/utils/deprecation.py:87: FutureWarning: Function plot_confusion_matrix is deprecated; Function `plot_confusion_matrix` is deprecated in 1.0 and will be removed in 1.2. Use one of the class methods: ConfusionMatrixDisplay.from_predictions or ConfusionMatrixDisplay.from_estimator.\n",
            "  warnings.warn(msg, category=FutureWarning)\n"
          ]
        },
        {
          "output_type": "stream",
          "name": "stdout",
          "text": [
            "              precision    recall  f1-score   support\n",
            "\n",
            "           0       0.99      1.00      1.00      4475\n",
            "           1       0.93      0.27      0.41        49\n",
            "\n",
            "    accuracy                           0.99      4524\n",
            "   macro avg       0.96      0.63      0.70      4524\n",
            "weighted avg       0.99      0.99      0.99      4524\n",
            "\n"
          ]
        },
        {
          "output_type": "display_data",
          "data": {
            "image/png": "[encoded data removed]",
            "text/plain": [
              "<Figure size 432x288 with 2 Axes>"
            ]
          },
          "metadata": {
            "needs_background": "light"
          }
        }
      ]
    },
    {
      "cell_type": "markdown",
      "source": [
        "# Model Comparison - ROC/AUC and other metrics"
      ],
      "metadata": {
        "id": "KZCV3I1g7Wgr"
      }
    },
    {
      "cell_type": "code",
      "source": [
        "from sklearn.metrics import roc_curve, plot_roc_curve, roc_auc_score"
      ],
      "metadata": {
        "id": "-PV5Pe9v7Yva"
      },
      "execution_count": 33,
      "outputs": []
    },
    {
      "cell_type": "code",
      "source": [
        "roc_log = plot_roc_curve(model_log,\n",
        "                         X_val,\n",
        "                         y_val,\n",
        "                         name = 'Logistic regression')\n",
        "\n",
        "roc_ada = plot_roc_curve(model_ada,\n",
        "                         X_val,\n",
        "                         y_val,\n",
        "                         ax = roc_log.ax_,\n",
        "                         name = 'AdaBoost classifier',\n",
        "                         )\n",
        "\n",
        "roc_xgb = plot_roc_curve(model_xgb,\n",
        "                         X_val,\n",
        "                         y_val,\n",
        "                         ax = roc_log.ax_,\n",
        "                         name = 'XGBoost classifier')"
      ],
      "metadata": {
        "colab": {
          "base_uri": "https://localhost:8080/",
          "height": 401
        },
        "id": "McO0zDXXpicy",
        "outputId": "747c182d-1060-4107-89a6-a55a9ef43c00"
      },
      "execution_count": 34,
      "outputs": [
        {
          "output_type": "stream",
          "name": "stderr",
          "text": [
            "/usr/local/lib/python3.7/dist-packages/sklearn/utils/deprecation.py:87: FutureWarning: Function plot_roc_curve is deprecated; Function `plot_roc_curve` is deprecated in 1.0 and will be removed in 1.2. Use one of the class methods: RocCurveDisplay.from_predictions or RocCurveDisplay.from_estimator.\n",
            "  warnings.warn(msg, category=FutureWarning)\n",
            "/usr/local/lib/python3.7/dist-packages/sklearn/utils/deprecation.py:87: FutureWarning: Function plot_roc_curve is deprecated; Function `plot_roc_curve` is deprecated in 1.0 and will be removed in 1.2. Use one of the class methods: RocCurveDisplay.from_predictions or RocCurveDisplay.from_estimator.\n",
            "  warnings.warn(msg, category=FutureWarning)\n",
            "/usr/local/lib/python3.7/dist-packages/sklearn/utils/deprecation.py:87: FutureWarning: Function plot_roc_curve is deprecated; Function `plot_roc_curve` is deprecated in 1.0 and will be removed in 1.2. Use one of the class methods: RocCurveDisplay.from_predictions or RocCurveDisplay.from_estimator.\n",
            "  warnings.warn(msg, category=FutureWarning)\n"
          ]
        },
        {
          "output_type": "display_data",
          "data": {
            "image/png": "[encoded data removed]",
            "text/plain": [
              "<Figure size 432x288 with 1 Axes>"
            ]
          },
          "metadata": {
            "needs_background": "light"
          }
        }
      ]
    },
    {
      "cell_type": "code",
      "source": [
        "auc_log = roc_auc_score(y_val, model_log.predict_proba(X_val)[:,-1])\n",
        "auc_ada = roc_auc_score(y_val, model_ada.predict_proba(X_val)[:,-1])\n",
        "auc_xgb = roc_auc_score(y_val, model_xgb.predict_proba(X_val)[:,-1])\n",
        "\n",
        "print('Logistic Regression AUC:', auc_log)\n",
        "print('Adaptive Boost AUC:', auc_ada)\n",
        "print('XGBoost AUC:', auc_xgb)"
      ],
      "metadata": {
        "colab": {
          "base_uri": "https://localhost:8080/"
        },
        "id": "rV7Z-xSCrI0q",
        "outputId": "0ccce7a5-462d-498e-9796-0176893f355b"
      },
      "execution_count": 35,
      "outputs": [
        {
          "output_type": "stream",
          "name": "stdout",
          "text": [
            "Logistic Regression AUC: 0.9962877665032494\n",
            "Adaptive Boost AUC: 0.9900581461634933\n",
            "XGBoost AUC: 0.9925937749401436\n"
          ]
        }
      ]
    },
    {
      "cell_type": "code",
      "source": [
        "# Found this custom function to calculate optimal threshold on StackExchange but didn't work out!\n",
        "\n",
        "# y_proba_log = model_log.predict_proba(X_val)[:,-1]\n",
        "\n",
        "# def Find_Optimal_Cutoff(target, predicted_proba):\n",
        "#     fpr, tpr, threshold = roc_curve(target, predicted_proba)\n",
        "#     i = np.arange(len(tpr)) \n",
        "#     roc = pd.DataFrame({'tf' : pd.Series(tpr-(1-fpr), index=i), 'threshold' : pd.Series(threshold, index=i)})\n",
        "#     roc_t = roc.iloc[(roc.tf-0).abs().argsort()[:1]]\n",
        "\n",
        "#     return float(roc_t['threshold']) \n",
        "\n",
        "# optimal_threshold = Find_Optimal_Cutoff(y_val, y_proba_log)\n",
        "# print(optimal_threshold)\n",
        "\n",
        "# y_proba_log[y_proba_log >= optimal_threshold] = 1\n",
        "# y_proba_log[y_proba_log < optimal_threshold] = 0\n",
        "\n",
        "# print('Logistic Regression (w/ optimal threshold): Validation Accuracy:', accuracy_score(y_val, y_proba_log))"
      ],
      "metadata": {
        "id": "E5catSwkvJJL"
      },
      "execution_count": 36,
      "outputs": []
    },
    {
      "cell_type": "code",
      "source": [
        "data_metrics = {'Accuracy': [model_log.score(X_val, y_val)*100,\n",
        "                             model_ada.score(X_val, y_val)*100,\n",
        "                             model_xgb.score(X_val, y_val)*100],\n",
        "                'Precision': [float(cr_log[128:132]),\n",
        "                              float(cr_ada[128:132]),\n",
        "                              float(cr_xgb[128:132])],\n",
        "                'Recall': [float(cr_log[138:142]),\n",
        "                           float(cr_ada[138:142]),\n",
        "                           float(cr_xgb[138:142])],\n",
        "                'F1_score': [float(cr_log[148:152]),\n",
        "                             float(cr_ada[148:152]),\n",
        "                             float(cr_xgb[148:152])],\n",
        "                'ROC_AUC': [auc_log, auc_ada, auc_xgb]\n",
        "                }\n",
        "\n",
        "df_metrics = pd.DataFrame(data_metrics, index = ['Logistic Regression', 'Adaptive Boost', 'XGBoost'])\n",
        "\n",
        "fig, [ax1, ax2, ax3, ax4, ax5] = plt.subplots(1, 5, figsize= (30,5));\n",
        "\n",
        "ax1.bar(df_metrics.index, df_metrics['Accuracy'], color = ['royalblue', 'orange', 'green'], width = 0.5)\n",
        "ax1.set_title('Accuracy')\n",
        "ax2.bar(df_metrics.index, df_metrics['ROC_AUC'], color = ['royalblue', 'orange', 'green'], width = 0.5)\n",
        "ax2.set_title('ROC AUC')\n",
        "ax3.bar(df_metrics.index, df_metrics['Precision'], color = ['royalblue', 'orange', 'green'], width = 0.5)\n",
        "ax3.set_title('Precision')\n",
        "ax4.bar(df_metrics.index, df_metrics['Recall'], color = ['royalblue', 'orange', 'green'], width = 0.5)\n",
        "ax4.set_title('Recall')\n",
        "ax5.bar(df_metrics.index, df_metrics['F1_score'], color = ['royalblue', 'orange', 'green'], width = 0.5)\n",
        "ax5.set_title('F1 Score');"
      ],
      "metadata": {
        "colab": {
          "base_uri": "https://localhost:8080/",
          "height": 336
        },
        "id": "1__Lx7_Bzq_K",
        "outputId": "8407c9a0-666e-42ac-e471-123c14c82f05"
      },
      "execution_count": 37,
      "outputs": [
        {
          "output_type": "display_data",
          "data": {
            "image/png": "[encoded data removed]",
            "text/plain": [
              "<Figure size 2160x360 with 5 Axes>"
            ]
          },
          "metadata": {
            "needs_background": "light"
          }
        }
      ]
    },
    {
      "cell_type": "markdown",
      "source": [
        "# Feature Importances Plots"
      ],
      "metadata": {
        "id": "h50ohIyPhCP9"
      }
    },
    {
      "cell_type": "code",
      "source": [
        "log_importances = model_log.named_steps['logisticregression'].coef_[0]\n",
        "features = model_log['onehotencoder'].get_feature_names()\n",
        "log_feat_imp = pd.Series(data=log_importances, index=features).sort_values(key=abs)\n",
        "log_feat_imp.tail(10).plot(kind='barh');\n",
        "\n",
        "# with pd.option_context('display.max_rows', None, 'display.max_columns', None):  # more options can be specified also\n",
        "#     print(log_feat_imp)"
      ],
      "metadata": {
        "colab": {
          "base_uri": "https://localhost:8080/",
          "height": 0
        },
        "id": "JLr4iIHn7Ry-",
        "outputId": "4ba5de49-3ab7-4f9d-b117-4d60141e5e13"
      },
      "execution_count": 38,
      "outputs": [
        {
          "output_type": "display_data",
          "data": {
            "image/png": "[encoded data removed]",
            "text/plain": [
              "<Figure size 432x288 with 1 Axes>"
            ]
          },
          "metadata": {
            "needs_background": "light"
          }
        }
      ]
    },
    {
      "cell_type": "code",
      "source": [
        "dt_importances = model_dt.named_steps['decisiontreeclassifier'].feature_importances_\n",
        "features = X_train.columns\n",
        "dt_feat_imp = pd.Series(data=dt_importances, index=features).sort_values()\n",
        "#dt_feat_imp.plot(kind='barh');"
      ],
      "metadata": {
        "id": "hJpWfx5b5uFw"
      },
      "execution_count": 39,
      "outputs": []
    },
    {
      "cell_type": "code",
      "source": [
        "rf_importances = model_rf.named_steps['randomforestclassifier'].feature_importances_\n",
        "features = X_train.columns\n",
        "rf_feat_imp = pd.Series(data=rf_importances, index=features).sort_values()\n",
        "#rf_feat_imp.plot(kind='barh');"
      ],
      "metadata": {
        "id": "4LTRpgVS7wg1"
      },
      "execution_count": 40,
      "outputs": []
    },
    {
      "cell_type": "code",
      "source": [
        "ada_importances = model_ada.named_steps['adaboostclassifier'].feature_importances_\n",
        "features = X_train.columns\n",
        "ada_feat_imp = pd.Series(data=ada_importances, index=features).sort_values()\n",
        "#ada_feat_imp.plot(kind='barh');"
      ],
      "metadata": {
        "id": "FHBOxfvTyE8W"
      },
      "execution_count": 41,
      "outputs": []
    },
    {
      "cell_type": "code",
      "source": [
        "xgb_importances = model_xgb.named_steps['xgbclassifier'].feature_importances_\n",
        "features = X_train.columns\n",
        "xgb_feat_imp = pd.Series(data=xgb_importances, index=features).sort_values()\n",
        "#xgb_feat_imp.plot(kind='barh');"
      ],
      "metadata": {
        "id": "YhkHGRtqjVAd"
      },
      "execution_count": 42,
      "outputs": []
    },
    {
      "cell_type": "markdown",
      "source": [
        "# Permutation Importances Plots"
      ],
      "metadata": {
        "id": "e3SZLMadhHL5"
      }
    },
    {
      "cell_type": "code",
      "source": [
        "perm_imp = permutation_importance(model_log, X_val, y_val, random_state=42)\n",
        "data_perm = {'PI_mean': perm_imp['importances_mean'],\n",
        "             'PI_std': perm_imp['importances_std']\n",
        "             }\n",
        "df_perm = pd.DataFrame(data_perm, index = X_val.columns).sort_values(by='PI_mean', ascending=True)\n",
        "df_perm['PI_mean'].tail(10).plot(kind='barh');\n",
        "plt.title('Logistic Regression (tuned) Permutation Importances');"
      ],
      "metadata": {
        "colab": {
          "base_uri": "https://localhost:8080/",
          "height": 281
        },
        "id": "sAdmHBnthKzA",
        "outputId": "a0b994e7-2578-4a95-8143-0f651856ff6e"
      },
      "execution_count": 44,
      "outputs": [
        {
          "output_type": "display_data",
          "data": {
            "image/png": "[encoded data removed]",
            "text/plain": [
              "<Figure size 432x288 with 1 Axes>"
            ]
          },
          "metadata": {
            "needs_background": "light"
          }
        }
      ]
    },
    {
      "cell_type": "code",
      "source": [
        "perm_imp = permutation_importance(model_ada, X_val, y_val, random_state=42)\n",
        "data_perm = {'PI_mean': perm_imp['importances_mean'],\n",
        "             'PI_std': perm_imp['importances_std']\n",
        "             }\n",
        "df_perm = pd.DataFrame(data_perm, index = X_val.columns).sort_values(by='PI_mean', ascending=True, key=abs)\n",
        "df_perm['PI_mean'].plot(kind='barh');\n",
        "plt.title('ADABoost Permutation Importances');"
      ],
      "metadata": {
        "colab": {
          "base_uri": "https://localhost:8080/",
          "height": 281
        },
        "id": "Eh4tCK5iMNfh",
        "outputId": "e664b270-394a-4598-cb38-ef8f3a22190b"
      },
      "execution_count": 45,
      "outputs": [
        {
          "output_type": "display_data",
          "data": {
            "image/png": "[encoded data removed]",
            "text/plain": [
              "<Figure size 432x288 with 1 Axes>"
            ]
          },
          "metadata": {
            "needs_background": "light"
          }
        }
      ]
    },
    {
      "cell_type": "markdown",
      "source": [
        "# Model Tuning"
      ],
      "metadata": {
        "id": "N1THjLVXPAKS"
      }
    },
    {
      "cell_type": "code",
      "source": [
        "from sklearn.model_selection import GridSearchCV, RandomizedSearchCV"
      ],
      "metadata": {
        "id": "q8T4CyyoR-YU"
      },
      "execution_count": 54,
      "outputs": []
    },
    {
      "cell_type": "code",
      "source": [
        "# For the Logistic Regression Model\n",
        "model_log = make_pipeline(OneHotEncoder(use_cat_names = True),\n",
        "                          StandardScaler(),\n",
        "                          LogisticRegression(n_jobs=-1, random_state = 42)\n",
        "                          )\n",
        "\n",
        "param_grid = {'logisticregression__max_iter': [100, 200, 300],   #deafult is 100\n",
        "              'logisticregression__solver': ['newton-cg', 'lbfgs', 'liblinear'],  #deafult is lgfbs\n",
        "              'logisticregression__penalty': ['none', 'l1', 'l2', 'elasticnet'],  #default is l2\n",
        "              'logisticregression__C': [10, 1.0, 0.1]  #deafult is 1\n",
        "              }\n",
        "\n",
        "model_log_s = GridSearchCV(model_log,\n",
        "                          param_grid=param_grid,\n",
        "                          n_jobs=-1,\n",
        "                          cv=5,\n",
        "                          #n_iter=25,\n",
        "                          scoring='f1',\n",
        "                          verbose=1\n",
        "                          )\n",
        "\n",
        "model_log_s.fit(X_train, y_train)"
      ],
      "metadata": {
        "colab": {
          "base_uri": "https://localhost:8080/"
        },
        "id": "MgDhNTqvPE1j",
        "outputId": "2a9d4a26-1e62-4404-a0d1-9a529e361c33"
      },
      "execution_count": 55,
      "outputs": [
        {
          "output_type": "stream",
          "name": "stdout",
          "text": [
            "Fitting 5 folds for each of 108 candidates, totalling 540 fits\n"
          ]
        },
        {
          "output_type": "execute_result",
          "data": {
            "text/plain": [
              "GridSearchCV(cv=5,\n",
              "             estimator=Pipeline(steps=[('onehotencoder',\n",
              "                                        OneHotEncoder(use_cat_names=True)),\n",
              "                                       ('standardscaler', StandardScaler()),\n",
              "                                       ('logisticregression',\n",
              "                                        LogisticRegression(n_jobs=-1,\n",
              "                                                           random_state=42))]),\n",
              "             n_jobs=-1,\n",
              "             param_grid={'logisticregression__C': [10, 1.0, 0.1],\n",
              "                         'logisticregression__max_iter': [100, 200, 300],\n",
              "                         'logisticregression__penalty': ['none', 'l1', 'l2',\n",
              "                                                         'elasticnet'],\n",
              "                         'logisticregression__solver': ['newton-cg', 'lbfgs',\n",
              "                                                        'liblinear']},\n",
              "             scoring='f1', verbose=1)"
            ]
          },
          "metadata": {},
          "execution_count": 55
        }
      ]
    },
    {
      "cell_type": "code",
      "source": [
        "print(model_log_s.best_params_)\n",
        "print('Best F1 Score:', model_log_s.best_score_)\n",
        "cr_log_s = classification_report(y_val, model_log_s.predict(X_val))\n",
        "print('Validation F1 Score:', cr_log_s[148:152])"
      ],
      "metadata": {
        "colab": {
          "base_uri": "https://localhost:8080/"
        },
        "id": "v3_iXP23UTuS",
        "outputId": "4af8f39b-a606-4cb9-ddd0-333b97c8bfc8"
      },
      "execution_count": 56,
      "outputs": [
        {
          "output_type": "stream",
          "name": "stdout",
          "text": [
            "{'logisticregression__C': 10, 'logisticregression__max_iter': 100, 'logisticregression__penalty': 'l2', 'logisticregression__solver': 'lbfgs'}\n",
            "Best F1 Score: 0.47222388171360696\n",
            "Validation F1 Score: 0.63\n"
          ]
        }
      ]
    },
    {
      "cell_type": "code",
      "source": [
        "# For the XGBoost Model\n",
        "model_xgb = make_pipeline(OrdinalEncoder(),\n",
        "                          XGBClassifier(n_jobs=-1, random_state = 42)\n",
        "                          )\n",
        "\n",
        "param_grid = {'xgbclassifier__scale_pos_weight': [1, 10, 50, 99],  #default is 1\n",
        "              'xgbclassifier__learning_rate': [0.01, 0.1, 0.3],  #must be between 0 and 1, deafult is 0.3\n",
        "              'xgbclassifier__max_depth': [3,6,9], # deafult is 6\n",
        "              'xgbclassifier__n_estimators': [50,100,150] # default is 100\n",
        "              }\n",
        "\n",
        "model_xgb_s = GridSearchCV(model_xgb,\n",
        "                           param_grid=param_grid,\n",
        "                           n_jobs=-1,\n",
        "                           cv=5,\n",
        "                           #n_iter=50\n",
        "                           scoring='f1',\n",
        "                           verbose=1\n",
        "                           )\n",
        "\n",
        "model_xgb_s.fit(X_train, y_train)"
      ],
      "metadata": {
        "id": "C8ifttDtcypb",
        "colab": {
          "base_uri": "https://localhost:8080/"
        },
        "outputId": "5521d3f4-9b58-455e-9d1d-981070539dfb"
      },
      "execution_count": 57,
      "outputs": [
        {
          "output_type": "stream",
          "name": "stdout",
          "text": [
            "Fitting 5 folds for each of 108 candidates, totalling 540 fits\n"
          ]
        },
        {
          "output_type": "execute_result",
          "data": {
            "text/plain": [
              "GridSearchCV(cv=5,\n",
              "             estimator=Pipeline(steps=[('ordinalencoder', OrdinalEncoder()),\n",
              "                                       ('xgbclassifier',\n",
              "                                        XGBClassifier(n_jobs=-1,\n",
              "                                                      random_state=42))]),\n",
              "             n_jobs=-1,\n",
              "             param_grid={'xgbclassifier__learning_rate': [0.01, 0.1, 0.3],\n",
              "                         'xgbclassifier__max_depth': [3, 6, 9],\n",
              "                         'xgbclassifier__n_estimators': [50, 100, 150],\n",
              "                         'xgbclassifier__scale_pos_weight': [1, 10, 50, 99]},\n",
              "             scoring='f1', verbose=1)"
            ]
          },
          "metadata": {},
          "execution_count": 57
        }
      ]
    },
    {
      "cell_type": "code",
      "source": [
        "print(model_xgb_s.best_params_)\n",
        "print('Best F1 Score:', model_xgb_s.best_score_)\n",
        "cr_xgb_s = classification_report(y_val, model_xgb_s.predict(X_val))\n",
        "print('Validation F1 Score:', cr_xgb_s[148:152])"
      ],
      "metadata": {
        "colab": {
          "base_uri": "https://localhost:8080/"
        },
        "id": "fPLbDp5Cvjwv",
        "outputId": "716ad8ca-a593-4a5b-e515-f4e76089eb22"
      },
      "execution_count": 58,
      "outputs": [
        {
          "output_type": "stream",
          "name": "stdout",
          "text": [
            "{'xgbclassifier__learning_rate': 0.3, 'xgbclassifier__max_depth': 3, 'xgbclassifier__n_estimators': 50, 'xgbclassifier__scale_pos_weight': 10}\n",
            "Best F1 Score: 0.4597738511991853\n",
            "Validation F1 Score: 0.61\n"
          ]
        }
      ]
    },
    {
      "cell_type": "code",
      "source": [
        "# For the Adaptive Boost Model\n",
        "model_ada = make_pipeline(OrdinalEncoder(),\n",
        "                          AdaBoostClassifier(base_estimator=DecisionTreeClassifier(), random_state=42)\n",
        "                          )\n",
        "\n",
        "param_grid = {'adaboostclassifier__base_estimator__max_depth': [1,2],  #default is 1\n",
        "              'adaboostclassifier__learning_rate': [0.1, 0.5, 1],  #must be between 0 and 1, deafult is 1\n",
        "              'adaboostclassifier__n_estimators': [50,100,150] # default is 50\n",
        "              }\n",
        "\n",
        "model_ada_s = GridSearchCV(model_ada,\n",
        "                            param_grid=param_grid,\n",
        "                            n_jobs=-1,\n",
        "                            cv=5,\n",
        "                            #n_iter=50\n",
        "                            scoring='f1',\n",
        "                            verbose=1,\n",
        "                            )\n",
        "\n",
        "model_ada_s.fit(X_train, y_train)"
      ],
      "metadata": {
        "colab": {
          "base_uri": "https://localhost:8080/"
        },
        "id": "LSokahvKGXwd",
        "outputId": "0f2761e8-7a30-471a-b594-6080870c78bc"
      },
      "execution_count": 59,
      "outputs": [
        {
          "output_type": "stream",
          "name": "stdout",
          "text": [
            "Fitting 5 folds for each of 18 candidates, totalling 90 fits\n"
          ]
        },
        {
          "output_type": "execute_result",
          "data": {
            "text/plain": [
              "GridSearchCV(cv=5,\n",
              "             estimator=Pipeline(steps=[('ordinalencoder', OrdinalEncoder()),\n",
              "                                       ('adaboostclassifier',\n",
              "                                        AdaBoostClassifier(base_estimator=DecisionTreeClassifier(),\n",
              "                                                           random_state=42))]),\n",
              "             n_jobs=-1,\n",
              "             param_grid={'adaboostclassifier__base_estimator__max_depth': [1,\n",
              "                                                                           2],\n",
              "                         'adaboostclassifier__learning_rate': [0.1, 0.5, 1],\n",
              "                         'adaboostclassifier__n_estimators': [50, 100, 150]},\n",
              "             scoring='f1', verbose=1)"
            ]
          },
          "metadata": {},
          "execution_count": 59
        }
      ]
    },
    {
      "cell_type": "code",
      "source": [
        "print(model_ada_s.best_params_)\n",
        "print('Best F1 Score:', model_ada_s.best_score_)\n",
        "cr_ada_s = classification_report(y_val, model_ada_s.predict(X_val))\n",
        "print('Validation F1 Score:', cr_ada_s[148:152])"
      ],
      "metadata": {
        "colab": {
          "base_uri": "https://localhost:8080/"
        },
        "id": "15V9einaaFsz",
        "outputId": "061c7804-6b3b-47c7-cd4b-8ef6d946101a"
      },
      "execution_count": 60,
      "outputs": [
        {
          "output_type": "stream",
          "name": "stdout",
          "text": [
            "{'adaboostclassifier__base_estimator__max_depth': 1, 'adaboostclassifier__learning_rate': 0.5, 'adaboostclassifier__n_estimators': 150}\n",
            "Best F1 Score: 0.42280766010088044\n",
            "Validation F1 Score: 0.56\n"
          ]
        }
      ]
    },
    {
      "cell_type": "markdown",
      "source": [
        "# Tuned Model Comparison"
      ],
      "metadata": {
        "id": "bLH7BkY4eqf7"
      }
    },
    {
      "cell_type": "code",
      "source": [
        "roc_log = plot_roc_curve(model_log_s,\n",
        "                         X_val,\n",
        "                         y_val,\n",
        "                         name = 'Logistic regression')\n",
        "\n",
        "roc_ada = plot_roc_curve(model_ada_s,\n",
        "                         X_val,\n",
        "                         y_val,\n",
        "                         ax = roc_log.ax_,\n",
        "                         name = 'AdaBoost classifier',\n",
        "                         )\n",
        "\n",
        "roc_xgb = plot_roc_curve(model_xgb_s,\n",
        "                         X_val,\n",
        "                         y_val,\n",
        "                         ax = roc_log.ax_,\n",
        "                         name = 'XGBoost classifier')"
      ],
      "metadata": {
        "id": "osklEC1vesm0",
        "colab": {
          "base_uri": "https://localhost:8080/",
          "height": 279
        },
        "outputId": "86b2d704-2e17-45a5-f28b-7db37f88a6e5"
      },
      "execution_count": 61,
      "outputs": [
        {
          "output_type": "display_data",
          "data": {
            "image/png": "[encoded data removed]",
            "text/plain": [
              "<Figure size 432x288 with 1 Axes>"
            ]
          },
          "metadata": {
            "needs_background": "light"
          }
        }
      ]
    },
    {
      "cell_type": "code",
      "source": [
        "auc_log_s = roc_auc_score(y_val, model_log_s.predict_proba(X_val)[:,-1])\n",
        "auc_ada_s = roc_auc_score(y_val, model_ada_s.predict_proba(X_val)[:,-1])\n",
        "auc_xgb_s = roc_auc_score(y_val, model_xgb_s.predict_proba(X_val)[:,-1])\n",
        "\n",
        "print('Logistic Regression AUC:', auc_log)\n",
        "print('Adaptive Boost AUC:', auc_ada)\n",
        "print('XGBoost AUC:', auc_xgb)"
      ],
      "metadata": {
        "id": "VCRf2ouDex6C",
        "colab": {
          "base_uri": "https://localhost:8080/"
        },
        "outputId": "6717ae9d-c186-466c-81a4-48cc69f8c7a8"
      },
      "execution_count": 62,
      "outputs": [
        {
          "output_type": "stream",
          "name": "stdout",
          "text": [
            "Logistic Regression AUC: 0.9962877665032494\n",
            "Adaptive Boost AUC: 0.9900581461634933\n",
            "XGBoost AUC: 0.9925937749401436\n"
          ]
        }
      ]
    },
    {
      "cell_type": "code",
      "source": [
        "data_metrics = {'Accuracy': [accuracy_score(y_val, model_log_s.predict(X_val))*100,\n",
        "                             accuracy_score(y_val, model_ada_s.predict(X_val))*100,\n",
        "                             accuracy_score(y_val, model_xgb_s.predict(X_val))*100],\n",
        "                'ROC_AUC': [auc_log_s, auc_ada_s, auc_xgb_s],\n",
        "                'Precision': [float(cr_log_s[128:132]),\n",
        "                              float(cr_ada_s[128:132]),\n",
        "                              float(cr_xgb_s[128:132])],\n",
        "                'Recall': [float(cr_log_s[138:142]),\n",
        "                           float(cr_ada_s[138:142]),\n",
        "                           float(cr_xgb_s[138:142])],\n",
        "                'F1_score': [float(cr_log_s[148:152]),\n",
        "                             float(cr_ada_s[148:152]),\n",
        "                             float(cr_xgb_s[148:152])]\n",
        "                }\n",
        "\n",
        "df_metrics = pd.DataFrame(data_metrics, index = ['Logistic Regression', 'Adaptive Boost', 'XGBoost'])\n",
        "display(df_metrics)\n",
        "\n",
        "fig, [ax1, ax2, ax3, ax4, ax5] = plt.subplots(1, 5, figsize= (30,5));\n",
        "\n",
        "ax1.bar(df_metrics.index, df_metrics['Accuracy'], color = ['royalblue', 'orange', 'green'], width = 0.5)\n",
        "ax1.set_title('Accuracy')\n",
        "ax2.bar(df_metrics.index, df_metrics['ROC_AUC'], color = ['royalblue', 'orange', 'green'], width = 0.5)\n",
        "ax2.set_title('ROC AUC')\n",
        "ax3.bar(df_metrics.index, df_metrics['Precision'], color = ['royalblue', 'orange', 'green'], width = 0.5)\n",
        "ax3.set_title('Precision')\n",
        "ax4.bar(df_metrics.index, df_metrics['Recall'], color = ['royalblue', 'orange', 'green'], width = 0.5)\n",
        "ax4.set_title('Recall')\n",
        "ax5.bar(df_metrics.index, df_metrics['F1_score'], color = ['royalblue', 'orange', 'green'], width = 0.5)\n",
        "ax5.set_title('F1 Score');"
      ],
      "metadata": {
        "colab": {
          "base_uri": "https://localhost:8080/",
          "height": 461
        },
        "id": "ZbULmfOJL2MN",
        "outputId": "1b88f5a3-cd7b-44b5-e088-31ef05bcf5c4"
      },
      "execution_count": 63,
      "outputs": [
        {
          "output_type": "display_data",
          "data": {
            "text/html": [
              "\n",
              "  <div id=\"df-ef1baeef-fe7b-4441-8ed0-ee211c3a383d\">\n",
              "    <div class=\"colab-df-container\">\n",
              "      <div>\n",
              "<style scoped>\n",
              "    .dataframe tbody tr th:only-of-type {\n",
              "        vertical-align: middle;\n",
              "    }\n",
              "\n",
              "    .dataframe tbody tr th {\n",
              "        vertical-align: top;\n",
              "    }\n",
              "\n",
              "    .dataframe thead th {\n",
              "        text-align: right;\n",
              "    }\n",
              "</style>\n",
              "<table border=\"1\" class=\"dataframe\">\n",
              "  <thead>\n",
              "    <tr style=\"text-align: right;\">\n",
              "      <th></th>\n",
              "      <th>Accuracy</th>\n",
              "      <th>ROC_AUC</th>\n",
              "      <th>Precision</th>\n",
              "      <th>Recall</th>\n",
              "      <th>F1_score</th>\n",
              "    </tr>\n",
              "  </thead>\n",
              "  <tbody>\n",
              "    <tr>\n",
              "      <th>Logistic Regression</th>\n",
              "      <td>99.358974</td>\n",
              "      <td>0.996393</td>\n",
              "      <td>0.83</td>\n",
              "      <td>0.51</td>\n",
              "      <td>0.63</td>\n",
              "    </tr>\n",
              "    <tr>\n",
              "      <th>Adaptive Boost</th>\n",
              "      <td>99.204244</td>\n",
              "      <td>0.981694</td>\n",
              "      <td>0.70</td>\n",
              "      <td>0.47</td>\n",
              "      <td>0.56</td>\n",
              "    </tr>\n",
              "    <tr>\n",
              "      <th>XGBoost</th>\n",
              "      <td>99.005305</td>\n",
              "      <td>0.993492</td>\n",
              "      <td>0.53</td>\n",
              "      <td>0.71</td>\n",
              "      <td>0.61</td>\n",
              "    </tr>\n",
              "  </tbody>\n",
              "</table>\n",
              "</div>\n",
              "      <button class=\"colab-df-convert\" onclick=\"convertToInteractive('df-ef1baeef-fe7b-4441-8ed0-ee211c3a383d')\"\n",
              "              title=\"Convert this dataframe to an interactive table.\"\n",
              "              style=\"display:none;\">\n",
              "        \n",
              "  <svg xmlns=\"http://www.w3.org/2000/svg\" height=\"24px\"viewBox=\"0 0 24 24\"\n",
              "       width=\"24px\">\n",
              "    <path d=\"M0 0h24v24H0V0z\" fill=\"none\"/>\n",
              "    <path d=\"M18.56 5.44l.94 2.06.94-2.06 2.06-.94-2.06-.94-.94-2.06-.94 2.06-2.06.94zm-11 1L8.5 8.5l.94-2.06 2.06-.94-2.06-.94L8.5 2.5l-.94 2.06-2.06.94zm10 10l.94 2.06.94-2.06 2.06-.94-2.06-.94-.94-2.06-.94 2.06-2.06.94z\"/><path d=\"M17.41 7.96l-1.37-1.37c-.4-.4-.92-.59-1.43-.59-.52 0-1.04.2-1.43.59L10.3 9.45l-7.72 7.72c-.78.78-.78 2.05 0 2.83L4 21.41c.39.39.9.59 1.41.59.51 0 1.02-.2 1.41-.59l7.78-7.78 2.81-2.81c.8-.78.8-2.07 0-2.86zM5.41 20L4 18.59l7.72-7.72 1.47 1.35L5.41 20z\"/>\n",
              "  </svg>\n",
              "      </button>\n",
              "      \n",
              "  <style>\n",
              "    .colab-df-container {\n",
              "      display:flex;\n",
              "      flex-wrap:wrap;\n",
              "      gap: 12px;\n",
              "    }\n",
              "\n",
              "    .colab-df-convert {\n",
              "      background-color: #E8F0FE;\n",
              "      border: none;\n",
              "      border-radius: 50%;\n",
              "      cursor: pointer;\n",
              "      display: none;\n",
              "      fill: #1967D2;\n",
              "      height: 32px;\n",
              "      padding: 0 0 0 0;\n",
              "      width: 32px;\n",
              "    }\n",
              "\n",
              "    .colab-df-convert:hover {\n",
              "      background-color: #E2EBFA;\n",
              "      box-shadow: 0px 1px 2px rgba(60, 64, 67, 0.3), 0px 1px 3px 1px rgba(60, 64, 67, 0.15);\n",
              "      fill: #174EA6;\n",
              "    }\n",
              "\n",
              "    [theme=dark] .colab-df-convert {\n",
              "      background-color: #3B4455;\n",
              "      fill: #D2E3FC;\n",
              "    }\n",
              "\n",
              "    [theme=dark] .colab-df-convert:hover {\n",
              "      background-color: #434B5C;\n",
              "      box-shadow: 0px 1px 3px 1px rgba(0, 0, 0, 0.15);\n",
              "      filter: drop-shadow(0px 1px 2px rgba(0, 0, 0, 0.3));\n",
              "      fill: #FFFFFF;\n",
              "    }\n",
              "  </style>\n",
              "\n",
              "      <script>\n",
              "        const buttonEl =\n",
              "          document.querySelector('#df-ef1baeef-fe7b-4441-8ed0-ee211c3a383d button.colab-df-convert');\n",
              "        buttonEl.style.display =\n",
              "          google.colab.kernel.accessAllowed ? 'block' : 'none';\n",
              "\n",
              "        async function convertToInteractive(key) {\n",
              "          const element = document.querySelector('#df-ef1baeef-fe7b-4441-8ed0-ee211c3a383d');\n",
              "          const dataTable =\n",
              "            await google.colab.kernel.invokeFunction('convertToInteractive',\n",
              "                                                     [key], {});\n",
              "          if (!dataTable) return;\n",
              "\n",
              "          const docLinkHtml = 'Like what you see? Visit the ' +\n",
              "            '<a target=\"_blank\" href=https://colab.research.google.com/notebooks/data_table.ipynb>data table notebook</a>'\n",
              "            + ' to learn more about interactive tables.';\n",
              "          element.innerHTML = '';\n",
              "          dataTable['output_type'] = 'display_data';\n",
              "          await google.colab.output.renderOutput(dataTable, element);\n",
              "          const docLink = document.createElement('div');\n",
              "          docLink.innerHTML = docLinkHtml;\n",
              "          element.appendChild(docLink);\n",
              "        }\n",
              "      </script>\n",
              "    </div>\n",
              "  </div>\n",
              "  "
            ],
            "text/plain": [
              "                      Accuracy   ROC_AUC  Precision  Recall  F1_score\n",
              "Logistic Regression  99.358974  0.996393       0.83    0.51      0.63\n",
              "Adaptive Boost       99.204244  0.981694       0.70    0.47      0.56\n",
              "XGBoost              99.005305  0.993492       0.53    0.71      0.61"
            ]
          },
          "metadata": {}
        },
        {
          "output_type": "display_data",
          "data": {
            "image/png": "[encoded data removed]",
            "text/plain": [
              "<Figure size 2160x360 with 5 Axes>"
            ]
          },
          "metadata": {
            "needs_background": "light"
          }
        }
      ]
    },
    {
      "cell_type": "markdown",
      "source": [
        "# Final Prediction using LR model"
      ],
      "metadata": {
        "id": "QwHmds_KOY5M"
      }
    },
    {
      "cell_type": "code",
      "source": [
        "# Testing set using LR (my original chosen model)\n",
        "\n",
        "y_pred = model_log_s.predict(X_test)\n",
        "cr_test = classification_report(y_test, y_pred)\n",
        "print(cr_test)\n",
        "plot_confusion_matrix(model_log_s, X_test, y_test)\n",
        "plt.title('Logistic Regression (test set)')\n",
        "\n",
        "#print('Test accuracy:', accuracy_score(y_test, y_pred))\n",
        "#print('Test precision:', float(cr_test[128:132]))\n",
        "#print('Test recall:', float(cr_test[138:142]))\n",
        "#print('Test F1 Score:', float(cr_test[148:152]))\n",
        "\n",
        "print('Baseline accuracy:', y_test.value_counts(normalize=True).max())\n",
        "print('Model accuracy:', accuracy_score(y_test, y_pred))\n",
        "print('F1 Score:', model_log_s.score(X_test, y_test))"
      ],
      "metadata": {
        "colab": {
          "base_uri": "https://localhost:8080/",
          "height": 567
        },
        "id": "L7zoZ3iLOc6r",
        "outputId": "9359b9b9-4172-4c61-c551-debf20930598"
      },
      "execution_count": 64,
      "outputs": [
        {
          "output_type": "stream",
          "name": "stdout",
          "text": [
            "              precision    recall  f1-score   support\n",
            "\n",
            "           0       0.99      1.00      1.00      4683\n",
            "           1       0.70      0.14      0.24        49\n",
            "\n",
            "    accuracy                           0.99      4732\n",
            "   macro avg       0.85      0.57      0.62      4732\n",
            "weighted avg       0.99      0.99      0.99      4732\n",
            "\n",
            "\n",
            "Baseline accuracy: 0.9896449704142012\n",
            "Model accuracy: 0.9904902789518174\n",
            "F1 Score: 0.23728813559322035\n",
            "\n",
            "\n",
            "\n"
          ]
        },
        {
          "output_type": "display_data",
          "data": {
            "image/png": "[encoded data removed]",
            "text/plain": [
              "<Figure size 432x288 with 2 Axes>"
            ]
          },
          "metadata": {
            "needs_background": "light"
          }
        }
      ]
    },
    {
      "cell_type": "code",
      "source": [
        "# Testing set using XGBoost\n",
        "\n",
        "y_pred = model_xgb_s.predict(X_test)\n",
        "cr_test = classification_report(y_test, y_pred)\n",
        "print(cr_test)\n",
        "plot_confusion_matrix(model_xgb_s, X_test, y_test)\n",
        "plt.title('XGBoost (test set)')\n",
        "\n",
        "#print('Test accuracy:', accuracy_score(y_test, y_pred))\n",
        "#print('Test precision:', float(cr_test[128:132]))\n",
        "#print('Test recall:', float(cr_test[138:142]))\n",
        "#print('Test F1 Score:', float(cr_test[148:152]))\n",
        "\n",
        "print('Baseline accuracy:', y_test.value_counts(normalize=True).max())\n",
        "print('Model accuracy:', accuracy_score(y_test, y_pred))"
      ],
      "metadata": {
        "colab": {
          "base_uri": "https://localhost:8080/",
          "height": 567
        },
        "id": "K4O_vNhYoAzd",
        "outputId": "f0c1c5d1-3880-46ac-d132-c8a9ddb7b55d"
      },
      "execution_count": 65,
      "outputs": [
        {
          "output_type": "stream",
          "name": "stdout",
          "text": [
            "              precision    recall  f1-score   support\n",
            "\n",
            "           0       0.99      0.99      0.99      4683\n",
            "           1       0.49      0.49      0.49        49\n",
            "\n",
            "    accuracy                           0.99      4732\n",
            "   macro avg       0.74      0.74      0.74      4732\n",
            "weighted avg       0.99      0.99      0.99      4732\n",
            "\n",
            "\n",
            "Baseline accuracy: 0.9896449704142012\n",
            "Model accuracy: 0.9894336432797971\n",
            "F1 Score: 0.4897959183673469\n",
            "\n",
            "\n",
            "\n"
          ]
        },
        {
          "output_type": "display_data",
          "data": {
            "image/png": "[encoded data removed]",
            "text/plain": [
              "<Figure size 432x288 with 2 Axes>"
            ]
          },
          "metadata": {
            "needs_background": "light"
          }
        }
      ]
    },
    {
      "cell_type": "markdown",
      "source": [
        "# SMOTE Oversampling Technique"
      ],
      "metadata": {
        "id": "ILkn1lzx-VrX"
      }
    },
    {
      "cell_type": "code",
      "source": [
        "from imblearn.over_sampling import SMOTENC"
      ],
      "metadata": {
        "id": "AnaKjGuQ-Zit"
      },
      "execution_count": null,
      "outputs": []
    },
    {
      "cell_type": "code",
      "source": [
        "smotenc = SMOTENC([0,13,24,25], random_state = 42)\n",
        "X_oversample, y_oversample = smotenc.fit_resample(X_train, y_train)\n",
        "print(X_oversample.shape, y_oversample.shape)"
      ],
      "metadata": {
        "id": "w-ly7uSR_Zr0"
      },
      "execution_count": null,
      "outputs": []
    },
    {
      "cell_type": "code",
      "source": [
        "# Baseline Accuracy\n",
        "print(y_oversample.value_counts())\n",
        "print(y_val.value_counts())\n",
        "\n",
        "baseline_train_acc = y_oversample.value_counts(normalize=True).max()*100\n",
        "baseline_val_acc = y_val.value_counts(normalize=True).max()*100\n",
        "\n",
        "print('The baseline training accuracy is:', baseline_train_acc)\n",
        "print('The baseline validation accuracy is:', baseline_val_acc)\n"
      ],
      "metadata": {
        "id": "XfqFCaxIBL-E"
      },
      "execution_count": null,
      "outputs": []
    },
    {
      "cell_type": "code",
      "source": [
        "model_logSM = make_pipeline(OneHotEncoder(use_cat_names = True),\n",
        "                          StandardScaler(),\n",
        "                          LogisticRegression(n_jobs=-1, random_state=42)\n",
        "                          )\n",
        "model_logSM.fit(X_oversample, y_oversample)"
      ],
      "metadata": {
        "id": "r4C-v6kpBrm4"
      },
      "execution_count": null,
      "outputs": []
    },
    {
      "cell_type": "code",
      "source": [
        "print('Logistic Regression: Training Accuracy:', model_logSM.score(X_train, y_train)*100)\n",
        "print('Logistic Regression: Validation Accuracy:', model_logSM.score(X_val, y_val)*100)"
      ],
      "metadata": {
        "id": "XKtztu4zCO9Y"
      },
      "execution_count": null,
      "outputs": []
    },
    {
      "cell_type": "code",
      "source": [
        "plot_confusion_matrix(model_logSM, X_val, y_val);\n",
        "plt.title('Logistic Regression SM Model');\n",
        "cr_log = classification_report(y_val, model_logSM.predict(X_val))\n",
        "print(cr_log)"
      ],
      "metadata": {
        "id": "quBMbaGpCoOT"
      },
      "execution_count": null,
      "outputs": []
    },
    {
      "cell_type": "markdown",
      "source": [
        "SMOTE oversampling improved my validation recall to almost a perfect score but reduced the precision of the logsitic regression model by quite a bit - there are now many more false positives. Overall, oversampling in this instance actually reduced the F1 score"
      ],
      "metadata": {
        "id": "FZG9Rn0mEcZb"
      }
    }
  ]
}